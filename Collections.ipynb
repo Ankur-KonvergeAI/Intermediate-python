{
 "cells": [
  {
   "cell_type": "markdown",
   "id": "a5747f09",
   "metadata": {},
   "source": [
    "## "
   ]
  },
  {
   "cell_type": "markdown",
   "id": "b57f5d42",
   "metadata": {},
   "source": [
    "## Counter"
   ]
  },
  {
   "cell_type": "code",
   "execution_count": 3,
   "id": "360fce89",
   "metadata": {},
   "outputs": [
    {
     "name": "stdout",
     "output_type": "stream",
     "text": [
      "Counter({'a': 6, 'b': 4, 'c': 3, 'd': 1, 'e': 1})\n"
     ]
    }
   ],
   "source": [
    "from collections import Counter\n",
    "a = \"aaaaabbbbcccade\"\n",
    "my_counter = Counter(a)\n",
    "print(my_counter)"
   ]
  },
  {
   "cell_type": "code",
   "execution_count": 5,
   "id": "df43c100",
   "metadata": {},
   "outputs": [
    {
     "ename": "NameError",
     "evalue": "name 'counter' is not defined",
     "output_type": "error",
     "traceback": [
      "\u001b[1;31m---------------------------------------------------------------------------\u001b[0m",
      "\u001b[1;31mNameError\u001b[0m                                 Traceback (most recent call last)",
      "Input \u001b[1;32mIn [5]\u001b[0m, in \u001b[0;36m<cell line: 3>\u001b[1;34m()\u001b[0m\n\u001b[0;32m      1\u001b[0m \u001b[38;5;28;01mfrom\u001b[39;00m \u001b[38;5;21;01mcollections\u001b[39;00m \u001b[38;5;28;01mimport\u001b[39;00m Counter\n\u001b[0;32m      2\u001b[0m a \u001b[38;5;241m=\u001b[39m \u001b[38;5;124m\"\u001b[39m\u001b[38;5;124maaaaabbbbcccade\u001b[39m\u001b[38;5;124m\"\u001b[39m\n\u001b[1;32m----> 3\u001b[0m my_counter \u001b[38;5;241m=\u001b[39m \u001b[43mcounter\u001b[49m(a)    \u001b[38;5;66;03m# Counter should be in written in capital letter\u001b[39;00m\n\u001b[0;32m      4\u001b[0m \u001b[38;5;28mprint\u001b[39m(my_counter)\n",
      "\u001b[1;31mNameError\u001b[0m: name 'counter' is not defined"
     ]
    }
   ],
   "source": [
    "from collections import Counter\n",
    "a = \"aaaaabbbbcccade\"\n",
    "my_counter = counter(a)    # Counter should be in written in capital letter\n",
    "print(my_counter)"
   ]
  },
  {
   "cell_type": "code",
   "execution_count": 7,
   "id": "0278a6e9",
   "metadata": {},
   "outputs": [
    {
     "name": "stdout",
     "output_type": "stream",
     "text": [
      "dict_items([('a', 6), ('b', 4), ('c', 3), ('d', 1), ('e', 1)])\n",
      "dict_keys(['a', 'b', 'c', 'd', 'e'])\n",
      "dict_values([6, 4, 3, 1, 1])\n"
     ]
    }
   ],
   "source": [
    "print(my_counter.items())    # keys and values will be printed\n",
    "print(my_counter.keys())    # only keys will be printed\n",
    "print(my_counter.values())    # only values will be printed"
   ]
  },
  {
   "cell_type": "code",
   "execution_count": 21,
   "id": "ff0ba148",
   "metadata": {},
   "outputs": [
    {
     "name": "stdout",
     "output_type": "stream",
     "text": [
      "Counter({0: 8, 1: 4, 2: 3, 3: 2, 4: 1})\n",
      "[(0, 8)]\n",
      "[(0, 8), (1, 4)]\n",
      "0\n"
     ]
    }
   ],
   "source": [
    "my_list = [0,0,0,0,0,0,0, 1, 0, 1, 2, 1, 1, 3, 2, 3, 2, 4]\n",
    "my_counter = Counter(my_list)    # are in order of descending no. of values\n",
    "print(my_counter)\n",
    "print(my_counter.most_common(1))    # most 1 common items with most value; key and value both printed\n",
    "print(my_counter.most_common(2))    # most 2 common items with most value; key and value both printed\n",
    "print(my_counter.most_common(1)[0][0])"
   ]
  },
  {
   "cell_type": "code",
   "execution_count": 22,
   "id": "4c679e74",
   "metadata": {},
   "outputs": [
    {
     "name": "stdout",
     "output_type": "stream",
     "text": [
      "[0, 0, 0, 0, 0, 0, 0, 0, 1, 1, 1, 1, 2, 2, 2, 3, 3, 4]\n"
     ]
    }
   ],
   "source": [
    "# Return an iterator over elements repeating each as many times as its count. \n",
    "# Elements are returned in arbitrary order.\n",
    "print(list(my_counter.elements()))"
   ]
  },
  {
   "cell_type": "markdown",
   "id": "c8ce0863",
   "metadata": {},
   "source": [
    "##  namedtuple"
   ]
  },
  {
   "cell_type": "code",
   "execution_count": 30,
   "id": "7049530e",
   "metadata": {},
   "outputs": [
    {
     "name": "stdout",
     "output_type": "stream",
     "text": [
      "Point(x=1, y=-4)\n"
     ]
    }
   ],
   "source": [
    "from collections import namedtuple\n",
    "# create a namedtuple with its class name as string and its fields as string\n",
    "# fields have to be separated by comma or space in the given string\n",
    "\n",
    "Point = namedtuple('Point','x, y')\n",
    "pt = Point(1, -4)\n",
    "print(pt)"
   ]
  },
  {
   "cell_type": "code",
   "execution_count": 31,
   "id": "4af997e5",
   "metadata": {},
   "outputs": [
    {
     "name": "stdout",
     "output_type": "stream",
     "text": [
      "('x', 'y')\n",
      "<class '__main__.Point'>\n",
      "1 -4\n"
     ]
    }
   ],
   "source": [
    "print(pt._fields)    # only fields will be printed\n",
    "print(type(pt))     # type of class\n",
    "print(pt.x, pt.y)    # print the values of x,y"
   ]
  },
  {
   "cell_type": "code",
   "execution_count": 34,
   "id": "db0bd4e5",
   "metadata": {},
   "outputs": [
    {
     "name": "stdout",
     "output_type": "stream",
     "text": [
      "Tom 25\n"
     ]
    }
   ],
   "source": [
    "Person = namedtuple('Person','name, age')\n",
    "friend = Person(name='Tom', age=25)\n",
    "print(friend.name,friend.age)"
   ]
  },
  {
   "cell_type": "markdown",
   "id": "ff04eb72",
   "metadata": {},
   "source": [
    "## OrderedDict"
   ]
  },
  {
   "cell_type": "code",
   "execution_count": 36,
   "id": "6216115a",
   "metadata": {},
   "outputs": [
    {
     "name": "stdout",
     "output_type": "stream",
     "text": [
      "{'a': 1, 'b': 2, 'c': 3, 'd': 4, 'e': 5}\n"
     ]
    }
   ],
   "source": [
    "from collections import OrderedDict\n",
    "\n",
    "ordinary_dict = {}\n",
    "ordinary_dict['a'] = 1\n",
    "ordinary_dict['b'] = 2\n",
    "ordinary_dict['c'] = 3\n",
    "ordinary_dict['d'] = 4\n",
    "ordinary_dict['e'] = 5\n",
    "\n",
    "# this may be in orbitrary order prior to Python 3.7\n",
    "print(ordinary_dict)"
   ]
  },
  {
   "cell_type": "code",
   "execution_count": 37,
   "id": "efe6391c",
   "metadata": {},
   "outputs": [
    {
     "name": "stdout",
     "output_type": "stream",
     "text": [
      "OrderedDict([('a', 1), ('b', 2), ('c', 3), ('d', 4), ('e', 5)])\n"
     ]
    }
   ],
   "source": [
    "ordered_dict = OrderedDict()    # class OrderDict()\n",
    "ordered_dict['a'] = 1\n",
    "ordered_dict['b'] = 2\n",
    "ordered_dict['c'] = 3\n",
    "ordered_dict['d'] = 4\n",
    "ordered_dict['e'] = 5\n",
    "print(ordered_dict)"
   ]
  },
  {
   "cell_type": "code",
   "execution_count": 38,
   "id": "8f30efd8",
   "metadata": {},
   "outputs": [
    {
     "name": "stdout",
     "output_type": "stream",
     "text": [
      "a 1\n",
      "b 2\n",
      "c 3\n",
      "d 4\n",
      "e 5\n"
     ]
    }
   ],
   "source": [
    "# same functionality as with ordinary dict, but always ordered\n",
    "\n",
    "for k, v in ordinary_dict.items():\n",
    "    print(k, v)"
   ]
  },
  {
   "cell_type": "markdown",
   "id": "df592617",
   "metadata": {},
   "source": [
    "## defaultdict"
   ]
  },
  {
   "cell_type": "code",
   "execution_count": 40,
   "id": "cfdd39a5",
   "metadata": {},
   "outputs": [
    {
     "name": "stdout",
     "output_type": "stream",
     "text": [
      "dict_items([('yellow', 1), ('blue', 2)])\n",
      "0\n"
     ]
    }
   ],
   "source": [
    "from collections import defaultdict\n",
    "\n",
    "# initialize with a default integer value, i.e 0\n",
    "d = defaultdict(int)    # defalut type is integer\n",
    "d['yellow'] = 1\n",
    "d['blue'] = 2\n",
    "print(d.items())\n",
    "print(d['green'])    # key green is not there, will return zero"
   ]
  },
  {
   "cell_type": "code",
   "execution_count": 44,
   "id": "fc5039cc",
   "metadata": {},
   "outputs": [
    {
     "name": "stdout",
     "output_type": "stream",
     "text": [
      "dict_items([('yellow', [1])])\n",
      "dict_items([('yellow', [1]), ('blue', [2])])\n",
      "dict_items([('yellow', [1, 3]), ('blue', [2])])\n",
      "dict_items([('yellow', [1, 3]), ('blue', [2, 4])])\n",
      "dict_items([('yellow', [1, 3]), ('blue', [2, 4]), ('red', [5])])\n"
     ]
    }
   ],
   "source": [
    "# initialize with a default list value, i.e an empty list\n",
    "\n",
    "d = defaultdict(list)\n",
    "s = [('yellow', 1), ('blue', 2), ('yellow', 3), ('blue', 4), ('red', 5)]\n",
    "\n",
    "for k, v in s:\n",
    "    d[k].append(v)\n",
    "    print(d.items())"
   ]
  },
  {
   "cell_type": "code",
   "execution_count": null,
   "id": "b96b6e2f",
   "metadata": {},
   "outputs": [],
   "source": [
    "print(d['green'])"
   ]
  },
  {
   "cell_type": "markdown",
   "id": "90ae9755",
   "metadata": {},
   "source": [
    "## deque"
   ]
  },
  {
   "cell_type": "code",
   "execution_count": 45,
   "id": "330fddb0",
   "metadata": {},
   "outputs": [
    {
     "name": "stdout",
     "output_type": "stream",
     "text": [
      "deque([])\n"
     ]
    }
   ],
   "source": [
    "from collections import deque\n",
    "d = deque()\n",
    "print(d)"
   ]
  },
  {
   "cell_type": "code",
   "execution_count": 46,
   "id": "adbc2a66",
   "metadata": {},
   "outputs": [
    {
     "name": "stdout",
     "output_type": "stream",
     "text": [
      "deque(['a', 'b'])\n"
     ]
    }
   ],
   "source": [
    "# append() : add elements to the right end \n",
    "\n",
    "d.append('a')\n",
    "d.append('b')\n",
    "print(d)"
   ]
  },
  {
   "cell_type": "code",
   "execution_count": 47,
   "id": "6d20b135",
   "metadata": {},
   "outputs": [
    {
     "name": "stdout",
     "output_type": "stream",
     "text": [
      "deque(['c', 'a', 'b'])\n"
     ]
    }
   ],
   "source": [
    "# appendleft()\n",
    "\n",
    "d.appendleft('c')    # add elements to the left end \n",
    "print(d)"
   ]
  },
  {
   "cell_type": "code",
   "execution_count": 48,
   "id": "1b88b38d",
   "metadata": {},
   "outputs": [
    {
     "name": "stdout",
     "output_type": "stream",
     "text": [
      "b\n",
      "deque(['c', 'a'])\n"
     ]
    }
   ],
   "source": [
    "# pop()\n",
    "\n",
    "print(d.pop())    # return and remove elements from the right\n",
    "print(d)"
   ]
  },
  {
   "cell_type": "code",
   "execution_count": 49,
   "id": "5f544f41",
   "metadata": {},
   "outputs": [
    {
     "name": "stdout",
     "output_type": "stream",
     "text": [
      "c\n",
      "deque(['a'])\n"
     ]
    }
   ],
   "source": [
    "# popleft()\n",
    "\n",
    "print(d.popleft())    # return and remove elements from the left\n",
    "print(d)"
   ]
  },
  {
   "cell_type": "code",
   "execution_count": 57,
   "id": "fc9c7b82",
   "metadata": {},
   "outputs": [
    {
     "name": "stdout",
     "output_type": "stream",
     "text": [
      "deque([])\n"
     ]
    }
   ],
   "source": [
    "# clear() \n",
    "\n",
    "d.clear()    # remove all elements\n",
    "print(d)"
   ]
  },
  {
   "cell_type": "code",
   "execution_count": 56,
   "id": "84f66cdb",
   "metadata": {},
   "outputs": [
    {
     "name": "stdout",
     "output_type": "stream",
     "text": [
      "deque(['j', 'i', 'h', 'a', 'b', 'c', 'd', 'e', 'f', 'g'])\n"
     ]
    }
   ],
   "source": [
    "d = deque(['a', 'b', 'c', 'd'])\n",
    "\n",
    "# extend at right or left side\n",
    "\n",
    "d.extend(['e', 'f', 'g'])\n",
    "d.extendleft(['h', 'i', 'j'])    # 'j' is now at the left most position\n",
    "print(d)"
   ]
  },
  {
   "cell_type": "code",
   "execution_count": 58,
   "id": "2e9c549b",
   "metadata": {},
   "outputs": [
    {
     "name": "stdout",
     "output_type": "stream",
     "text": [
      "0\n"
     ]
    }
   ],
   "source": [
    "# count(x) \n",
    "\n",
    "print(d.count('h'))    # returns the number of found elements"
   ]
  },
  {
   "cell_type": "code",
   "execution_count": 53,
   "id": "a59abbf4",
   "metadata": {},
   "outputs": [
    {
     "name": "stdout",
     "output_type": "stream",
     "text": [
      "deque(['g', 'j', 'i', 'h', 'a', 'b', 'c', 'd', 'e', 'f'])\n"
     ]
    }
   ],
   "source": [
    "d.rotate(1)    # rotate 1 positions to the right\n",
    "print(d)"
   ]
  },
  {
   "cell_type": "code",
   "execution_count": 61,
   "id": "a8e87088",
   "metadata": {},
   "outputs": [
    {
     "name": "stdout",
     "output_type": "stream",
     "text": [
      "deque(['c', 'd', 'a', 'b'])\n"
     ]
    }
   ],
   "source": [
    "d = deque(['a', 'b', 'c', 'd'])\n",
    "d.rotate(-2)    # rotate 2 positions to the left\n",
    "print(d)"
   ]
  }
 ],
 "metadata": {
  "kernelspec": {
   "display_name": "Python 3 (ipykernel)",
   "language": "python",
   "name": "python3"
  },
  "language_info": {
   "codemirror_mode": {
    "name": "ipython",
    "version": 3
   },
   "file_extension": ".py",
   "mimetype": "text/x-python",
   "name": "python",
   "nbconvert_exporter": "python",
   "pygments_lexer": "ipython3",
   "version": "3.10.5"
  }
 },
 "nbformat": 4,
 "nbformat_minor": 5
}
