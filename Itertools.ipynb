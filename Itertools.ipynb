{
 "cells": [
  {
   "cell_type": "markdown",
   "id": "fbc92180",
   "metadata": {},
   "source": [
    "## product()"
   ]
  },
  {
   "cell_type": "code",
   "execution_count": 4,
   "id": "237535b0",
   "metadata": {},
   "outputs": [
    {
     "name": "stdout",
     "output_type": "stream",
     "text": [
      "[(1, 3), (1, 4), (2, 3), (2, 4)]\n"
     ]
    }
   ],
   "source": [
    "from itertools import product\n",
    "\n",
    "a= [1,2]\n",
    "b= [3,4]\n",
    "\n",
    "prod = product(a,b)\n",
    "\n",
    "print(list(prod))"
   ]
  },
  {
   "cell_type": "code",
   "execution_count": 9,
   "id": "e3feb610",
   "metadata": {},
   "outputs": [
    {
     "name": "stdout",
     "output_type": "stream",
     "text": [
      "[(1, 3, 1, 3), (1, 3, 1, 4), (1, 4, 1, 3), (1, 4, 1, 4)]\n"
     ]
    }
   ],
   "source": [
    "a= [1]\n",
    "b= [3,4]\n",
    "\n",
    "prod = product(a,b,repeat=2)\n",
    "print(list(prod))"
   ]
  },
  {
   "cell_type": "markdown",
   "id": "7e8005cb",
   "metadata": {},
   "source": [
    "## permutations()"
   ]
  },
  {
   "cell_type": "code",
   "execution_count": 10,
   "id": "b8fe53de",
   "metadata": {},
   "outputs": [
    {
     "name": "stdout",
     "output_type": "stream",
     "text": [
      "[(1, 2, 3), (1, 3, 2), (2, 1, 3), (2, 3, 1), (3, 1, 2), (3, 2, 1)]\n"
     ]
    }
   ],
   "source": [
    "from itertools import permutations\n",
    "\n",
    "perm = permutations([1, 2, 3])\n",
    "print(list(perm))"
   ]
  },
  {
   "cell_type": "code",
   "execution_count": 11,
   "id": "649fb30a",
   "metadata": {},
   "outputs": [
    {
     "name": "stdout",
     "output_type": "stream",
     "text": [
      "[(1, 2), (1, 3), (2, 1), (2, 3), (3, 1), (3, 2)]\n"
     ]
    }
   ],
   "source": [
    "perm = permutations([1, 2, 3], 2)    # length 2 specifies the permutation tuples\n",
    "print(list(perm))"
   ]
  },
  {
   "cell_type": "code",
   "execution_count": 13,
   "id": "b0d8d642",
   "metadata": {},
   "outputs": [
    {
     "name": "stdout",
     "output_type": "stream",
     "text": [
      "[(1,), (2,), (3,)]\n"
     ]
    }
   ],
   "source": [
    "perm = permutations([1, 2, 3], 1)    # length 1 specifies the permutation tuples\n",
    "print(list(perm))"
   ]
  },
  {
   "cell_type": "markdown",
   "id": "313ed8d6",
   "metadata": {},
   "source": [
    "## combinations() and combinations_with_replacement()"
   ]
  },
  {
   "cell_type": "code",
   "execution_count": 16,
   "id": "c0799860",
   "metadata": {},
   "outputs": [
    {
     "name": "stdout",
     "output_type": "stream",
     "text": [
      "[(1, 2), (1, 3), (1, 4), (2, 3), (2, 4), (3, 4)]\n"
     ]
    }
   ],
   "source": [
    "from itertools import combinations, combinations_with_replacement\n",
    "\n",
    "# the second argument is mandatory and specifies the length of the output tuples.\n",
    "comb = combinations([1, 2, 3, 4], 2)\n",
    "print(list(comb))"
   ]
  },
  {
   "cell_type": "code",
   "execution_count": 17,
   "id": "77eacfea",
   "metadata": {},
   "outputs": [
    {
     "name": "stdout",
     "output_type": "stream",
     "text": [
      "[(1, 1), (1, 2), (1, 3), (1, 4), (2, 2), (2, 3), (2, 4), (3, 3), (3, 4), (4, 4)]\n"
     ]
    }
   ],
   "source": [
    "comb = combinations_with_replacement([1, 2, 3, 4], 2)\n",
    "print(list(comb))"
   ]
  },
  {
   "cell_type": "markdown",
   "id": "6d89f9ca",
   "metadata": {},
   "source": [
    "## accumulate()"
   ]
  },
  {
   "cell_type": "code",
   "execution_count": 19,
   "id": "e8bccee3",
   "metadata": {},
   "outputs": [
    {
     "name": "stdout",
     "output_type": "stream",
     "text": [
      "[1, 3, 6, 10]\n"
     ]
    }
   ],
   "source": [
    "from itertools import accumulate\n",
    "\n",
    "acc = accumulate([1,2,3,4])    # return accumulated sums (1, !+2+3, !+2+3+4)\n",
    "print(list(acc))"
   ]
  },
  {
   "cell_type": "code",
   "execution_count": 20,
   "id": "a7e44afd",
   "metadata": {},
   "outputs": [
    {
     "name": "stdout",
     "output_type": "stream",
     "text": [
      "[1, 2, 6, 24]\n"
     ]
    }
   ],
   "source": [
    "# other possible functions are possible\n",
    "\n",
    "import operator\n",
    "acc = accumulate([1,2,3,4], func=operator.mul)\n",
    "print(list(acc))"
   ]
  },
  {
   "cell_type": "code",
   "execution_count": 21,
   "id": "41273e4b",
   "metadata": {},
   "outputs": [
    {
     "name": "stdout",
     "output_type": "stream",
     "text": [
      "[1, 5, 5, 6, 6, 6]\n"
     ]
    }
   ],
   "source": [
    "acc = accumulate([1,5,2,6,3,4], func=max)    # accumulate the highest value for each element\n",
    "print(list(acc))"
   ]
  },
  {
   "cell_type": "markdown",
   "id": "1a13adc7",
   "metadata": {},
   "source": [
    "##  groupby()"
   ]
  },
  {
   "cell_type": "code",
   "execution_count": null,
   "id": "b5a90ae9",
   "metadata": {},
   "outputs": [],
   "source": [
    "from itertools import groupby\n",
    "\n",
    "# use a function as key\n",
    "def smaller_than_3(x):\n",
    "    return x < 3\n",
    "\n",
    "group_obj = groupby([1, 2, 3, 4], key=smaller_than_3)\n",
    "for key, group in group_obj:\n",
    "    print(key, list(group))"
   ]
  },
  {
   "cell_type": "code",
   "execution_count": null,
   "id": "94c92c50",
   "metadata": {},
   "outputs": [],
   "source": [
    "# or use a lamda expression, e.g. words with an 'i':\n",
    "group_obj = groupby([\"hi\", \"nice\", \"hello\", \"cool\"], key=lambda x: \"i\" in x)\n",
    "for key, group in group_obj:\n",
    "    print(key, list(group))\n",
    "    \n",
    "persons = [{'name': 'Tim', 'age': 25}, {'name': 'Dan', 'age': 25}, \n",
    "           {'name': 'Lisa', 'age': 27}, {'name': 'Claire', 'age': 28}]\n",
    "\n",
    "for key, group in groupby(persons, key=lambda x: x['age']):\n",
    "    print(key, list(group))"
   ]
  },
  {
   "cell_type": "code",
   "execution_count": null,
   "id": "37959871",
   "metadata": {},
   "outputs": [],
   "source": []
  },
  {
   "cell_type": "markdown",
   "id": "688103a9",
   "metadata": {},
   "source": [
    "## Infinite iterators: count(), cycle(), repeat()"
   ]
  },
  {
   "cell_type": "code",
   "execution_count": 22,
   "id": "20aa5594",
   "metadata": {},
   "outputs": [
    {
     "name": "stdout",
     "output_type": "stream",
     "text": [
      "10\n",
      "11\n",
      "12\n",
      "13\n"
     ]
    }
   ],
   "source": [
    "from itertools import count, cycle, repeat\n",
    "# count(x): count from x: x, x+1, x+2, x+3...\n",
    "\n",
    "for i in count(10):\n",
    "    print(i)\n",
    "    if  i >= 13:\n",
    "        break"
   ]
  },
  {
   "cell_type": "code",
   "execution_count": 23,
   "id": "fa3ef3a2",
   "metadata": {},
   "outputs": [
    {
     "name": "stdout",
     "output_type": "stream",
     "text": [
      "\n",
      "1\n",
      "2\n",
      "3\n",
      "1\n",
      "2\n",
      "3\n"
     ]
    }
   ],
   "source": [
    "# cycle(iterable) : cycle infinitely through an iterable\n",
    "\n",
    "print(\"\")\n",
    "sum = 0\n",
    "for i in cycle([1, 2, 3]):\n",
    "    print(i)\n",
    "    sum += i\n",
    "    if sum >= 12:\n",
    "        break"
   ]
  },
  {
   "cell_type": "code",
   "execution_count": null,
   "id": "7c157733",
   "metadata": {},
   "outputs": [],
   "source": [
    "# repeat(x): repeat x infinitely or n times\n",
    "print(\"\")\n",
    "for i in repeat(\"A\", 3):\n",
    "    print(i)"
   ]
  },
  {
   "cell_type": "code",
   "execution_count": null,
   "id": "ae4dcefc",
   "metadata": {},
   "outputs": [],
   "source": []
  },
  {
   "cell_type": "code",
   "execution_count": null,
   "id": "c1fd689a",
   "metadata": {},
   "outputs": [],
   "source": []
  },
  {
   "cell_type": "code",
   "execution_count": null,
   "id": "2d9cb55a",
   "metadata": {},
   "outputs": [],
   "source": []
  },
  {
   "cell_type": "code",
   "execution_count": null,
   "id": "9d5b585f",
   "metadata": {},
   "outputs": [],
   "source": []
  },
  {
   "cell_type": "code",
   "execution_count": null,
   "id": "0442973c",
   "metadata": {},
   "outputs": [],
   "source": []
  },
  {
   "cell_type": "code",
   "execution_count": null,
   "id": "6b14a5c7",
   "metadata": {},
   "outputs": [],
   "source": []
  }
 ],
 "metadata": {
  "kernelspec": {
   "display_name": "Python 3 (ipykernel)",
   "language": "python",
   "name": "python3"
  },
  "language_info": {
   "codemirror_mode": {
    "name": "ipython",
    "version": 3
   },
   "file_extension": ".py",
   "mimetype": "text/x-python",
   "name": "python",
   "nbconvert_exporter": "python",
   "pygments_lexer": "ipython3",
   "version": "3.10.5"
  }
 },
 "nbformat": 4,
 "nbformat_minor": 5
}
