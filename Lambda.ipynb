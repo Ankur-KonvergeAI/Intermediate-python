{
 "cells": [
  {
   "cell_type": "markdown",
   "id": "ea6681ea",
   "metadata": {},
   "source": [
    "## "
   ]
  },
  {
   "cell_type": "code",
   "execution_count": 7,
   "id": "8035a8eb",
   "metadata": {},
   "outputs": [
    {
     "name": "stdout",
     "output_type": "stream",
     "text": [
      "17\n"
     ]
    }
   ],
   "source": [
    "add10 = lambda x: x + 10    # lambda arguments: expression\n",
    "print(add10(7))"
   ]
  },
  {
   "cell_type": "code",
   "execution_count": 11,
   "id": "8593b512",
   "metadata": {},
   "outputs": [
    {
     "name": "stdout",
     "output_type": "stream",
     "text": [
      "20\n"
     ]
    }
   ],
   "source": [
    "def add10_func(x):\n",
    "    return x + 10\n",
    "print(add10_func(10))"
   ]
  },
  {
   "cell_type": "code",
   "execution_count": 13,
   "id": "edac0f8a",
   "metadata": {},
   "outputs": [
    {
     "name": "stdout",
     "output_type": "stream",
     "text": [
      "14\n"
     ]
    }
   ],
   "source": [
    "mult = lambda x,y: x*y\n",
    "print(mult(2,7))"
   ]
  },
  {
   "cell_type": "code",
   "execution_count": 5,
   "id": "b0bc506c",
   "metadata": {},
   "outputs": [
    {
     "name": "stdout",
     "output_type": "stream",
     "text": [
      "15 110\n"
     ]
    }
   ],
   "source": [
    "# a lambda function that adds 10 to the input argument\n",
    "\n",
    "f = lambda x: x+10\n",
    "val1 = f(5)\n",
    "val2 = f(100)\n",
    "print(val1, val2)"
   ]
  },
  {
   "cell_type": "code",
   "execution_count": 4,
   "id": "98dd5b02",
   "metadata": {},
   "outputs": [
    {
     "name": "stdout",
     "output_type": "stream",
     "text": [
      "20 35\n"
     ]
    }
   ],
   "source": [
    "# a lambda function that multiplies two input arguments and returns the result\n",
    "\n",
    "f = lambda x,y: x*y\n",
    "val3 = f(2,10)\n",
    "val4 = f(7,5)\n",
    "print(val3, val4)"
   ]
  },
  {
   "cell_type": "markdown",
   "id": "524aaded",
   "metadata": {},
   "source": [
    "## Usage example: Lamdba inside another function"
   ]
  },
  {
   "cell_type": "code",
   "execution_count": 2,
   "id": "68c2f51a",
   "metadata": {},
   "outputs": [
    {
     "name": "stdout",
     "output_type": "stream",
     "text": [
      "12\n"
     ]
    }
   ],
   "source": [
    "def myfunc(n):\n",
    "    return lambda x: x * n\n",
    "\n",
    "doubler = myfunc(2)\n",
    "print(doubler(6))"
   ]
  },
  {
   "cell_type": "code",
   "execution_count": 3,
   "id": "faa0902c",
   "metadata": {},
   "outputs": [
    {
     "name": "stdout",
     "output_type": "stream",
     "text": [
      "18\n"
     ]
    }
   ],
   "source": [
    "tripler = myfunc(3)\n",
    "print(tripler(6))"
   ]
  },
  {
   "cell_type": "markdown",
   "id": "e3d53889",
   "metadata": {},
   "source": [
    "## Custom sorting using a lambda function as key parameter"
   ]
  },
  {
   "cell_type": "code",
   "execution_count": 7,
   "id": "bd30c9ff",
   "metadata": {},
   "outputs": [
    {
     "name": "stdout",
     "output_type": "stream",
     "text": [
      "[(1, 2), (15, 1), (5, -1), (10, 4)]\n",
      "[(1, 2), (5, -1), (10, 4), (15, 1)]\n"
     ]
    }
   ],
   "source": [
    "points2D = [(1, 2), (15, 1), (5, -1), (10, 4)]\n",
    "points2D_sorted = sorted(points2D)    # will sort in ascending order of x\n",
    "\n",
    "print(points2D)\n",
    "print(points2D_sorted)"
   ]
  },
  {
   "cell_type": "code",
   "execution_count": 18,
   "id": "9ede5e6a",
   "metadata": {},
   "outputs": [
    {
     "name": "stdout",
     "output_type": "stream",
     "text": [
      "[(5, -3), (4, 1), (10, 2), (1, 9)]\n"
     ]
    }
   ],
   "source": [
    "points2D = [(1, 9), (4, 1), (5, -3), (10, 2)]\n",
    "sorted_by_y = sorted(points2D, key= lambda x: x[1])    # sorted by second element x[2]\n",
    "print(sorted_by_y)"
   ]
  },
  {
   "cell_type": "code",
   "execution_count": 19,
   "id": "427587e8",
   "metadata": {},
   "outputs": [
    {
     "name": "stdout",
     "output_type": "stream",
     "text": [
      "[(1, 9, 0), (4, 1, 1), (5, -3, 2), (10, 2, 3)]\n"
     ]
    }
   ],
   "source": [
    "points2D = [(1, 9, 0), (4, 1, 1), (5, -3, 2), (10, 2, 3)]\n",
    "sorted_by_y = sorted(points2D, key= lambda x: x[2])    # sorted by third element x[2]\n",
    "print(sorted_by_y)"
   ]
  },
  {
   "cell_type": "code",
   "execution_count": 20,
   "id": "b88316e3",
   "metadata": {},
   "outputs": [
    {
     "name": "stdout",
     "output_type": "stream",
     "text": [
      "[(1, 2), (15, 1), (5, -1), (10, 4)]\n",
      "[(1, 2), (5, -1), (10, 4), (15, 1)]\n"
     ]
    }
   ],
   "source": [
    "points2D = [(1, 2), (15, 1), (5, -1), (10, 4)]\n",
    "sorted2D_sorted = sorted(points2D, key= lambda x: x[0] + x[1])\n",
    "\n",
    "print(points2D)\n",
    "print(sorted2D_sorted)"
   ]
  },
  {
   "cell_type": "code",
   "execution_count": 12,
   "id": "6910fa55",
   "metadata": {},
   "outputs": [
    {
     "name": "stdout",
     "output_type": "stream",
     "text": [
      "[-1, 1, -2, 2, -3, 3, -4, 4]\n"
     ]
    }
   ],
   "source": [
    "mylist = [- 1, -4, -2, -3, 1, 2, 3, 4]\n",
    "sorted_by_abs = sorted(mylist, key= lambda x: abs(x))\n",
    "print(sorted_by_abs)"
   ]
  },
  {
   "cell_type": "markdown",
   "id": "0186cd06",
   "metadata": {},
   "source": [
    "## Use lambda for map function"
   ]
  },
  {
   "cell_type": "code",
   "execution_count": 31,
   "id": "3a1d6dee",
   "metadata": {},
   "outputs": [
    {
     "name": "stdout",
     "output_type": "stream",
     "text": [
      "[2, 4, 6, 8, 10, 12]\n"
     ]
    }
   ],
   "source": [
    "a = [1,2,3,4,5,6]\n",
    "b = map(lambda x: x*2,a)\n",
    "print(list(b))"
   ]
  },
  {
   "cell_type": "code",
   "execution_count": 28,
   "id": "9467b316",
   "metadata": {},
   "outputs": [
    {
     "name": "stdout",
     "output_type": "stream",
     "text": [
      "[2, 4, 6, 8, 10, 12]\n",
      "[2, 4, 6, 8, 10, 12]\n"
     ]
    }
   ],
   "source": [
    "a  = [1, 2, 3, 4, 5, 6]\n",
    "b = list(map(lambda x: x * 2 , a))\n",
    "\n",
    "# However, try to prefer list comprehension\n",
    "# Use map if you have an already defined function"
   ]
  },
  {
   "cell_type": "code",
   "execution_count": 33,
   "id": "901bfc16",
   "metadata": {},
   "outputs": [
    {
     "name": "stdout",
     "output_type": "stream",
     "text": [
      "[2, 4, 6, 8, 10, 12]\n"
     ]
    }
   ],
   "source": [
    "c = [x*2 for x in a]\n",
    "print(c)"
   ]
  },
  {
   "cell_type": "markdown",
   "id": "dd5fa120",
   "metadata": {},
   "source": [
    "## Use lambda for filter function"
   ]
  },
  {
   "cell_type": "code",
   "execution_count": 27,
   "id": "330be179",
   "metadata": {},
   "outputs": [
    {
     "name": "stdout",
     "output_type": "stream",
     "text": [
      "[2, 4, 6, 8]\n",
      "[2, 4, 6, 8]\n"
     ]
    }
   ],
   "source": [
    "a = [1, 2, 3, 4, 5, 6, 7, 8]\n",
    "b = list(filter(lambda x: (x%2 == 0) , a))\n",
    "\n",
    "# However, the same can be achieved with list comprehension\n",
    "c = [x for x in a if x%2 == 0]\n",
    "print(b)\n",
    "print(c)"
   ]
  },
  {
   "cell_type": "code",
   "execution_count": null,
   "id": "f07cb627",
   "metadata": {},
   "outputs": [],
   "source": []
  },
  {
   "cell_type": "markdown",
   "id": "609a2857",
   "metadata": {},
   "source": [
    "## reduce"
   ]
  },
  {
   "cell_type": "code",
   "execution_count": 23,
   "id": "d463a7a7",
   "metadata": {},
   "outputs": [
    {
     "name": "stdout",
     "output_type": "stream",
     "text": [
      "720\n"
     ]
    }
   ],
   "source": [
    "from functools import reduce    # reduce function has to be imported\n",
    "\n",
    "a = [1, 2, 3, 4, 5, 6]\n",
    "product_a = reduce(lambda x, y: x*y, a)    # reduce function has 2 arguments\n",
    "print(product_a)"
   ]
  },
  {
   "cell_type": "code",
   "execution_count": 26,
   "id": "b9639c99",
   "metadata": {},
   "outputs": [
    {
     "name": "stdout",
     "output_type": "stream",
     "text": [
      "120\n"
     ]
    }
   ],
   "source": [
    "from functools import reduce    # reduce function has to be imported\n",
    "\n",
    "a = [1, 2, 3, 4, 5]\n",
    "product_a = reduce(lambda x, y: x*y, a)    # reduce function has 2 arguments\n",
    "print(product_a)"
   ]
  },
  {
   "cell_type": "code",
   "execution_count": 24,
   "id": "1473deaf",
   "metadata": {},
   "outputs": [
    {
     "name": "stdout",
     "output_type": "stream",
     "text": [
      "21\n"
     ]
    }
   ],
   "source": [
    "sum_a = reduce(lambda x, y: x + y, a)\n",
    "print(sum_a)"
   ]
  },
  {
   "cell_type": "code",
   "execution_count": null,
   "id": "3d80e65e",
   "metadata": {},
   "outputs": [],
   "source": []
  }
 ],
 "metadata": {
  "kernelspec": {
   "display_name": "Python 3 (ipykernel)",
   "language": "python",
   "name": "python3"
  },
  "language_info": {
   "codemirror_mode": {
    "name": "ipython",
    "version": 3
   },
   "file_extension": ".py",
   "mimetype": "text/x-python",
   "name": "python",
   "nbconvert_exporter": "python",
   "pygments_lexer": "ipython3",
   "version": "3.10.5"
  }
 },
 "nbformat": 4,
 "nbformat_minor": 5
}
