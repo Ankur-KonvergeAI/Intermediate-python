{
 "cells": [
  {
   "cell_type": "markdown",
   "id": "769f109c",
   "metadata": {},
   "source": [
    "# The random module"
   ]
  },
  {
   "cell_type": "code",
   "execution_count": 1,
   "id": "072a3983",
   "metadata": {},
   "outputs": [
    {
     "name": "stdout",
     "output_type": "stream",
     "text": [
      "0.15667788465951293\n"
     ]
    }
   ],
   "source": [
    "import random\n",
    "\n",
    "a = random.random()    # random float in [0,1)\n",
    "print(a)"
   ]
  },
  {
   "cell_type": "code",
   "execution_count": 5,
   "id": "37b9c0d6",
   "metadata": {},
   "outputs": [
    {
     "name": "stdout",
     "output_type": "stream",
     "text": [
      "2.4259297528863963\n"
     ]
    }
   ],
   "source": [
    "\n",
    "a = random.uniform(1,10)    # random float in range between 1 and 10\n",
    "print(a)"
   ]
  },
  {
   "cell_type": "code",
   "execution_count": 9,
   "id": "324a9a05",
   "metadata": {},
   "outputs": [
    {
     "name": "stdout",
     "output_type": "stream",
     "text": [
      "6\n"
     ]
    }
   ],
   "source": [
    "a = random.randint(1,10)    # random integer in range [a,b]. b is included\n",
    "print(a)"
   ]
  },
  {
   "cell_type": "code",
   "execution_count": 15,
   "id": "49329173",
   "metadata": {},
   "outputs": [
    {
     "name": "stdout",
     "output_type": "stream",
     "text": [
      "13\n"
     ]
    }
   ],
   "source": [
    "a = random.randrange(1,20)    # random integer in range between 1 and 20. Note: 20 is excluded\n",
    "print(a)"
   ]
  },
  {
   "cell_type": "code",
   "execution_count": 16,
   "id": "d5287dac",
   "metadata": {},
   "outputs": [
    {
     "name": "stdout",
     "output_type": "stream",
     "text": [
      "-0.914525049948841\n"
     ]
    }
   ],
   "source": [
    "# random float from a normal distribution with mu and sigma\n",
    "a = random.normalvariate(0, 1)\n",
    "print(a)"
   ]
  },
  {
   "cell_type": "code",
   "execution_count": 17,
   "id": "0031a486",
   "metadata": {},
   "outputs": [
    {
     "name": "stdout",
     "output_type": "stream",
     "text": [
      "['A', 'B', 'C', 'D', 'E', 'F', 'G', 'H']\n"
     ]
    }
   ],
   "source": [
    "mylist = list(\"ABCDEFGH\")\n",
    "print(mylist)"
   ]
  },
  {
   "cell_type": "code",
   "execution_count": 20,
   "id": "25d4f5b9",
   "metadata": {},
   "outputs": [
    {
     "name": "stdout",
     "output_type": "stream",
     "text": [
      "A\n"
     ]
    }
   ],
   "source": [
    "# choose a random element from a sequence\n",
    "a = random.choice(list(\"ABCDEFGHI\"))\n",
    "print(a)"
   ]
  },
  {
   "cell_type": "code",
   "execution_count": 21,
   "id": "8989c995",
   "metadata": {},
   "outputs": [
    {
     "name": "stdout",
     "output_type": "stream",
     "text": [
      "['H', 'I', 'E']\n"
     ]
    }
   ],
   "source": [
    "# choose k unique random elements from a sequence\n",
    "a = random.sample(list(\"ABCDEFGHI\"), 3)\n",
    "print(a)"
   ]
  },
  {
   "cell_type": "code",
   "execution_count": 22,
   "id": "82c97f7f",
   "metadata": {},
   "outputs": [
    {
     "name": "stdout",
     "output_type": "stream",
     "text": [
      "['G', 'H', 'A']\n"
     ]
    }
   ],
   "source": [
    "# choose k elements with replacement, and return k sized list\n",
    "a = random.choices(list(\"ABCDEFGHI\"),k=3)\n",
    "print(a)"
   ]
  },
  {
   "cell_type": "code",
   "execution_count": 23,
   "id": "a6a2a363",
   "metadata": {},
   "outputs": [
    {
     "name": "stdout",
     "output_type": "stream",
     "text": [
      "['F', 'C', 'G', 'B', 'A', 'E', 'H', 'D', 'I']\n"
     ]
    }
   ],
   "source": [
    "# shuffle list in place\n",
    "a = list(\"ABCDEFGHI\")\n",
    "random.shuffle(a)\n",
    "print(a)"
   ]
  },
  {
   "cell_type": "markdown",
   "id": "0d0d76da",
   "metadata": {},
   "source": [
    "# The seed generator"
   ]
  },
  {
   "cell_type": "code",
   "execution_count": 24,
   "id": "4a24a65a",
   "metadata": {},
   "outputs": [
    {
     "name": "stdout",
     "output_type": "stream",
     "text": [
      "['D', 'G', 'B', 'F', 'H', 'A', 'E', 'C']\n"
     ]
    }
   ],
   "source": [
    "import random\n",
    "\n",
    "random.seed(1)\n",
    "mylist = list(\"ABCDEFGH\")\n",
    "random.shuffle(mylist)\n",
    "print(mylist)"
   ]
  },
  {
   "cell_type": "code",
   "execution_count": 28,
   "id": "7bb952e8",
   "metadata": {},
   "outputs": [
    {
     "name": "stdout",
     "output_type": "stream",
     "text": [
      "0.13436424411240122\n",
      "2\n",
      "0.13436424411240122\n",
      "2\n",
      "0.13436424411240122\n",
      "2\n"
     ]
    }
   ],
   "source": [
    "import random\n",
    "\n",
    "random.seed(1)\n",
    "print(random.random())\n",
    "print(random.randint(1,10))\n",
    "\n",
    "random.seed(1)\n",
    "print(random.random())\n",
    "print(random.randint(1,10))\n",
    "\n",
    "random.seed(1)\n",
    "print(random.random())\n",
    "print(random.randint(1,10))"
   ]
  },
  {
   "cell_type": "code",
   "execution_count": 29,
   "id": "d762847a",
   "metadata": {},
   "outputs": [
    {
     "name": "stdout",
     "output_type": "stream",
     "text": [
      "0.13436424411240122\n",
      "2\n",
      "0.9560342718892494\n",
      "1\n",
      "0.23796462709189137\n",
      "9\n"
     ]
    }
   ],
   "source": [
    "import random\n",
    "\n",
    "random.seed(1)\n",
    "print(random.random())\n",
    "print(random.randint(1,10))\n",
    "\n",
    "random.seed(2)\n",
    "print(random.random())\n",
    "print(random.randint(1,10))\n",
    "\n",
    "random.seed(3)\n",
    "print(random.random())\n",
    "print(random.randint(1,10))"
   ]
  },
  {
   "cell_type": "code",
   "execution_count": null,
   "id": "d6846abe",
   "metadata": {},
   "outputs": [],
   "source": []
  },
  {
   "cell_type": "code",
   "execution_count": null,
   "id": "a49f7faa",
   "metadata": {},
   "outputs": [],
   "source": []
  },
  {
   "cell_type": "code",
   "execution_count": null,
   "id": "89a7ee6a",
   "metadata": {},
   "outputs": [],
   "source": [
    "print('Seeding with 1...\\n')\n",
    "\n",
    "random.seed(1)\n",
    "print(random.random())\n",
    "print(random.uniform(1,10))\n",
    "print(random.choice(list(\"ABCDEFGHI\")))\n",
    "\n",
    "print('\\nRe-seeding with 42...\\n')\n",
    "random.seed(42)  # Re-seed\n",
    "\n",
    "print(random.random())\n",
    "print(random.uniform(1,10))\n",
    "print(random.choice(list(\"ABCDEFGHI\")))\n",
    "\n",
    "print('\\nRe-seeding with 1...\\n')\n",
    "random.seed(1)  # Re-seed\n",
    "\n",
    "print(random.random())\n",
    "print(random.uniform(1,10))\n",
    "print(random.choice(list(\"ABCDEFGHI\")))\n",
    "\n",
    "print('\\nRe-seeding with 42...\\n')\n",
    "random.seed(42)  # Re-seed\n",
    "\n",
    "print(random.random())\n",
    "print(random.uniform(1,10))\n",
    "print(random.choice(list(\"ABCDEFGHI\")))"
   ]
  },
  {
   "cell_type": "code",
   "execution_count": null,
   "id": "37bd9b28",
   "metadata": {},
   "outputs": [],
   "source": []
  },
  {
   "cell_type": "markdown",
   "id": "65ab67ab",
   "metadata": {},
   "source": [
    "# The secrets module"
   ]
  },
  {
   "cell_type": "code",
   "execution_count": 31,
   "id": "61ab7bcc",
   "metadata": {},
   "outputs": [
    {
     "name": "stdout",
     "output_type": "stream",
     "text": [
      "3\n"
     ]
    }
   ],
   "source": [
    "import secrets\n",
    "\n",
    "a = secrets.randbelow(10)    # random integer in range [0, 10). Note: 10 is excluded.\n",
    "print(a)"
   ]
  },
  {
   "cell_type": "code",
   "execution_count": 40,
   "id": "2a55c743",
   "metadata": {},
   "outputs": [
    {
     "name": "stdout",
     "output_type": "stream",
     "text": [
      "10\n"
     ]
    }
   ],
   "source": [
    "a = secrets.randbits(5)    # return an integer with k random bits.\n",
    "print(a)"
   ]
  },
  {
   "cell_type": "code",
   "execution_count": 41,
   "id": "50ceeda7",
   "metadata": {},
   "outputs": [
    {
     "name": "stdout",
     "output_type": "stream",
     "text": [
      "I\n"
     ]
    }
   ],
   "source": [
    "a = secrets.choice(list(\"ABCDEFGHI\"))    # choose a random element from a sequence\n",
    "print(a)"
   ]
  },
  {
   "cell_type": "markdown",
   "id": "543fe216",
   "metadata": {},
   "source": [
    "# Random numbers with NumPy"
   ]
  },
  {
   "cell_type": "code",
   "execution_count": 43,
   "id": "feff1a6f",
   "metadata": {},
   "outputs": [
    {
     "name": "stdout",
     "output_type": "stream",
     "text": [
      "[[0 8 8 0]\n",
      " [4 6 4 2]\n",
      " [9 8 5 1]]\n"
     ]
    }
   ],
   "source": [
    "import numpy as np\n",
    "\n",
    "a = np.random.randint(0,10,(3,4))\n",
    "print(a)"
   ]
  },
  {
   "cell_type": "code",
   "execution_count": 45,
   "id": "08777a9d",
   "metadata": {},
   "outputs": [
    {
     "name": "stdout",
     "output_type": "stream",
     "text": [
      "[[1 2 3]\n",
      " [4 5 6]\n",
      " [7 8 9]]\n",
      "[[7 8 9]\n",
      " [4 5 6]\n",
      " [1 2 3]]\n"
     ]
    }
   ],
   "source": [
    "arr = np.array([[1,2,3],[4,5,6],[7,8,9]])\n",
    "print(arr)\n",
    "np.random.shuffle(arr)    # only switch rows\n",
    "print(arr)"
   ]
  },
  {
   "cell_type": "code",
   "execution_count": 50,
   "id": "73ae2f2c",
   "metadata": {},
   "outputs": [
    {
     "name": "stdout",
     "output_type": "stream",
     "text": [
      "[4.17022005e-01 7.20324493e-01 1.14374817e-04]\n"
     ]
    }
   ],
   "source": [
    "import numpy as np\n",
    "\n",
    "np.random.seed(1)\n",
    "# rand(d0,d1,…,dn)\n",
    "# generate nd array with random floats, arrays has size (d0,d1,…,dn)\n",
    "print(np.random.rand(3))"
   ]
  },
  {
   "cell_type": "code",
   "execution_count": 51,
   "id": "28f92f69",
   "metadata": {},
   "outputs": [
    {
     "name": "stdout",
     "output_type": "stream",
     "text": [
      "[4.17022005e-01 7.20324493e-01 1.14374817e-04]\n"
     ]
    }
   ],
   "source": [
    "# reset the seed\n",
    "np.random.seed(1)\n",
    "print(np.random.rand(3))"
   ]
  },
  {
   "cell_type": "code",
   "execution_count": 52,
   "id": "94cb1288",
   "metadata": {},
   "outputs": [
    {
     "name": "stdout",
     "output_type": "stream",
     "text": [
      "[[5 0 0]\n",
      " [1 7 6]\n",
      " [9 2 4]\n",
      " [5 2 4]\n",
      " [2 4 7]]\n"
     ]
    }
   ],
   "source": [
    "# generate nd array with random integers in range [a,b) with size n\n",
    "values = np.random.randint(0, 10, (5,3))\n",
    "print(values)"
   ]
  },
  {
   "cell_type": "code",
   "execution_count": 53,
   "id": "6a940044",
   "metadata": {},
   "outputs": [
    {
     "name": "stdout",
     "output_type": "stream",
     "text": [
      "[-2.29230928 -1.41555249  0.8858294   0.63190187  0.04026035]\n"
     ]
    }
   ],
   "source": [
    "# generate nd array with Gaussian values, array has size (d0,d1,…,dn)\n",
    "# values from standard normal distribution with mean 0.0 and standard deviation 1.0\n",
    "values = np.random.randn(5)\n",
    "print(values)"
   ]
  },
  {
   "cell_type": "code",
   "execution_count": 54,
   "id": "448c0c63",
   "metadata": {},
   "outputs": [
    {
     "name": "stdout",
     "output_type": "stream",
     "text": [
      "[[4 5 6]\n",
      " [7 8 9]\n",
      " [1 2 3]]\n"
     ]
    }
   ],
   "source": [
    "# randomly shuffle a nd array.\n",
    "# only shuffles the array along the first axis of a multi-dimensional array\n",
    "arr = np.array([[1,2,3], [4,5,6], [7,8,9]])\n",
    "np.random.shuffle(arr)\n",
    "print(arr)"
   ]
  },
  {
   "cell_type": "code",
   "execution_count": null,
   "id": "6413e5d3",
   "metadata": {},
   "outputs": [],
   "source": []
  }
 ],
 "metadata": {
  "kernelspec": {
   "display_name": "Python 3 (ipykernel)",
   "language": "python",
   "name": "python3"
  },
  "language_info": {
   "codemirror_mode": {
    "name": "ipython",
    "version": 3
   },
   "file_extension": ".py",
   "mimetype": "text/x-python",
   "name": "python",
   "nbconvert_exporter": "python",
   "pygments_lexer": "ipython3",
   "version": "3.10.5"
  }
 },
 "nbformat": 4,
 "nbformat_minor": 5
}
