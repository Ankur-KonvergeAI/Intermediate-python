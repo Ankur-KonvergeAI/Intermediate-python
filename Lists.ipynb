{
 "cells": [
  {
   "cell_type": "markdown",
   "id": "ee7734cb",
   "metadata": {},
   "source": [
    "## Creating a list"
   ]
  },
  {
   "cell_type": "code",
   "execution_count": 1,
   "id": "88fe196b",
   "metadata": {},
   "outputs": [
    {
     "name": "stdout",
     "output_type": "stream",
     "text": [
      "['banana', 'cherry', 'apple']\n"
     ]
    }
   ],
   "source": [
    "list_1 = [\"banana\", \"cherry\", \"apple\"]\n",
    "print(list_1)"
   ]
  },
  {
   "cell_type": "code",
   "execution_count": 2,
   "id": "186843a1",
   "metadata": {},
   "outputs": [
    {
     "name": "stdout",
     "output_type": "stream",
     "text": [
      "[]\n"
     ]
    }
   ],
   "source": [
    "list_2 = list()\n",
    "print(list_2)"
   ]
  },
  {
   "cell_type": "markdown",
   "id": "2780e870",
   "metadata": {},
   "source": [
    "## Lists allow different data types"
   ]
  },
  {
   "cell_type": "code",
   "execution_count": 3,
   "id": "2f2ea1a9",
   "metadata": {},
   "outputs": [
    {
     "name": "stdout",
     "output_type": "stream",
     "text": [
      "[5, True, 'apple']\n"
     ]
    }
   ],
   "source": [
    "list_3 = [5, True, \"apple\"]\n",
    "print(list_3)"
   ]
  },
  {
   "cell_type": "markdown",
   "id": "dfe97ed9",
   "metadata": {},
   "source": [
    "## Accessing elements"
   ]
  },
  {
   "cell_type": "code",
   "execution_count": 8,
   "id": "2fef263d",
   "metadata": {},
   "outputs": [
    {
     "name": "stdout",
     "output_type": "stream",
     "text": [
      "5\n"
     ]
    }
   ],
   "source": [
    "item = list_3[0]\n",
    "print(item)"
   ]
  },
  {
   "cell_type": "code",
   "execution_count": 23,
   "id": "8cb8f05a",
   "metadata": {},
   "outputs": [
    {
     "name": "stdout",
     "output_type": "stream",
     "text": [
      "[5, True, 'apple']\n"
     ]
    }
   ],
   "source": [
    "item = list_3[0:3] # refers to first 3 elements(0th,1th, 2th )\n",
    "print(item)"
   ]
  },
  {
   "cell_type": "code",
   "execution_count": 10,
   "id": "add84791",
   "metadata": {},
   "outputs": [
    {
     "name": "stdout",
     "output_type": "stream",
     "text": [
      "apple\n"
     ]
    }
   ],
   "source": [
    "item = list_3[-1] # -1 refers to last item in list\n",
    "print(item)"
   ]
  },
  {
   "cell_type": "code",
   "execution_count": 11,
   "id": "7f349905",
   "metadata": {},
   "outputs": [
    {
     "name": "stdout",
     "output_type": "stream",
     "text": [
      "True\n"
     ]
    }
   ],
   "source": [
    "item = list_3[-2] # -2 refers to second last item in list\n",
    "print(item)"
   ]
  },
  {
   "cell_type": "markdown",
   "id": "092e270e",
   "metadata": {},
   "source": [
    "## For loop for accessing elements"
   ]
  },
  {
   "cell_type": "code",
   "execution_count": 13,
   "id": "8ab3aa14",
   "metadata": {},
   "outputs": [
    {
     "name": "stdout",
     "output_type": "stream",
     "text": [
      "5\n",
      "True\n",
      "apple\n"
     ]
    }
   ],
   "source": [
    "# using for loop\n",
    "\n",
    "for i in list_3:\n",
    "    print(i)"
   ]
  },
  {
   "cell_type": "code",
   "execution_count": null,
   "id": "a092505d",
   "metadata": {},
   "outputs": [],
   "source": [
    "# using for loop\n",
    "\n",
    "for i in list_3:\n",
    "    print(i)"
   ]
  },
  {
   "cell_type": "markdown",
   "id": "d01a1883",
   "metadata": {},
   "source": [
    "## For loop for accessing elements"
   ]
  },
  {
   "cell_type": "code",
   "execution_count": 14,
   "id": "b4650d67",
   "metadata": {},
   "outputs": [
    {
     "name": "stdout",
     "output_type": "stream",
     "text": [
      "no\n"
     ]
    }
   ],
   "source": [
    "# using if statement\n",
    "\n",
    "if \"banana\" in list_3:\n",
    "    print(\"yes\")\n",
    "else:\n",
    "    print(\"no\")"
   ]
  },
  {
   "cell_type": "code",
   "execution_count": 16,
   "id": "fbc74d37",
   "metadata": {},
   "outputs": [
    {
     "name": "stdout",
     "output_type": "stream",
     "text": [
      "Oh yes, its here\n"
     ]
    }
   ],
   "source": [
    "if \"apple\" in list_3:\n",
    "    print(\"Oh yes, its here\")\n",
    "else:\n",
    "    print(\"oh no\")"
   ]
  },
  {
   "cell_type": "code",
   "execution_count": 17,
   "id": "da886d1d",
   "metadata": {},
   "outputs": [
    {
     "data": {
      "text/plain": [
       "3"
      ]
     },
     "execution_count": 17,
     "metadata": {},
     "output_type": "execute_result"
    }
   ],
   "source": [
    "# checking no. of elements in list\n",
    "\n",
    "len(list_3)"
   ]
  },
  {
   "cell_type": "code",
   "execution_count": 21,
   "id": "9b79f016",
   "metadata": {},
   "outputs": [
    {
     "name": "stdout",
     "output_type": "stream",
     "text": [
      "5\n"
     ]
    }
   ],
   "source": [
    "print(len(list_3))"
   ]
  },
  {
   "cell_type": "markdown",
   "id": "c260690f",
   "metadata": {},
   "source": [
    "## Adding elements"
   ]
  },
  {
   "cell_type": "code",
   "execution_count": 25,
   "id": "2c25f734",
   "metadata": {},
   "outputs": [
    {
     "name": "stdout",
     "output_type": "stream",
     "text": [
      "[5, True, 'apple', 'monkey']\n"
     ]
    }
   ],
   "source": [
    "# Append(Add) items\n",
    "\n",
    "list_3 = [5, True, \"apple\"]\n",
    "list_3.append(\"monkey\")\n",
    "print(list_3)"
   ]
  },
  {
   "cell_type": "code",
   "execution_count": 34,
   "id": "db51b59c",
   "metadata": {},
   "outputs": [
    {
     "name": "stdout",
     "output_type": "stream",
     "text": [
      "[5, 'blueberry', True, 'apple']\n"
     ]
    }
   ],
   "source": [
    "# inserting item in a specific place\n",
    "\n",
    "list_3 = [5, True, \"apple\"]\n",
    "list_3.insert(1,'blueberry')\n",
    "print(list_3)"
   ]
  },
  {
   "cell_type": "markdown",
   "id": "b817ebbb",
   "metadata": {},
   "source": [
    "## Removing elements"
   ]
  },
  {
   "cell_type": "code",
   "execution_count": 42,
   "id": "90bcc84c",
   "metadata": {},
   "outputs": [
    {
     "name": "stdout",
     "output_type": "stream",
     "text": [
      "[5, True]\n"
     ]
    }
   ],
   "source": [
    "# Removing items\n",
    "\n",
    "list_3 = [5, True, \"apple\"]\n",
    "list_3.pop() # Remove last item from list\n",
    "print(list_3)"
   ]
  },
  {
   "cell_type": "code",
   "execution_count": 43,
   "id": "241dbea2",
   "metadata": {},
   "outputs": [
    {
     "name": "stdout",
     "output_type": "stream",
     "text": [
      "True\n",
      "[5]\n"
     ]
    }
   ],
   "source": [
    "item = list_3.pop() # last element(True) is stored in variable(item)\n",
    "print(item)\n",
    "print(list_3)"
   ]
  },
  {
   "cell_type": "code",
   "execution_count": 44,
   "id": "f7539d61",
   "metadata": {},
   "outputs": [
    {
     "ename": "TypeError",
     "evalue": "list.remove() takes exactly one argument (0 given)",
     "output_type": "error",
     "traceback": [
      "\u001b[1;31m---------------------------------------------------------------------------\u001b[0m",
      "\u001b[1;31mTypeError\u001b[0m                                 Traceback (most recent call last)",
      "Input \u001b[1;32mIn [44]\u001b[0m, in \u001b[0;36m<cell line: 4>\u001b[1;34m()\u001b[0m\n\u001b[0;32m      1\u001b[0m \u001b[38;5;66;03m# Removing specific element\u001b[39;00m\n\u001b[0;32m      3\u001b[0m list_3 \u001b[38;5;241m=\u001b[39m [\u001b[38;5;241m5\u001b[39m, \u001b[38;5;28;01mTrue\u001b[39;00m, \u001b[38;5;124m\"\u001b[39m\u001b[38;5;124mapple\u001b[39m\u001b[38;5;124m\"\u001b[39m, \u001b[38;5;124m\"\u001b[39m\u001b[38;5;124mchopsticks\u001b[39m\u001b[38;5;124m\"\u001b[39m]\n\u001b[1;32m----> 4\u001b[0m \u001b[43mlist_3\u001b[49m\u001b[38;5;241;43m.\u001b[39;49m\u001b[43mremove\u001b[49m\u001b[43m(\u001b[49m\u001b[43m)\u001b[49m\n",
      "\u001b[1;31mTypeError\u001b[0m: list.remove() takes exactly one argument (0 given)"
     ]
    }
   ],
   "source": [
    "# Removing specific element\n",
    "\n",
    "list_3 = [5, True, \"apple\", \"chopsticks\"]\n",
    "list_3.remove()\n"
   ]
  },
  {
   "cell_type": "code",
   "execution_count": 46,
   "id": "1467a5de",
   "metadata": {},
   "outputs": [
    {
     "name": "stdout",
     "output_type": "stream",
     "text": [
      "[5, True, 'chopsticks']\n"
     ]
    }
   ],
   "source": [
    "list_3 = [5, True, \"apple\", \"chopsticks\"]\n",
    "list_3.remove(\"apple\")\n",
    "print(list_3)"
   ]
  },
  {
   "cell_type": "code",
   "execution_count": 47,
   "id": "98262a31",
   "metadata": {},
   "outputs": [
    {
     "ename": "ValueError",
     "evalue": "list.remove(x): x not in list",
     "output_type": "error",
     "traceback": [
      "\u001b[1;31m---------------------------------------------------------------------------\u001b[0m",
      "\u001b[1;31mValueError\u001b[0m                                Traceback (most recent call last)",
      "Input \u001b[1;32mIn [47]\u001b[0m, in \u001b[0;36m<cell line: 2>\u001b[1;34m()\u001b[0m\n\u001b[0;32m      1\u001b[0m list_3 \u001b[38;5;241m=\u001b[39m [\u001b[38;5;241m5\u001b[39m, \u001b[38;5;28;01mTrue\u001b[39;00m, \u001b[38;5;124m\"\u001b[39m\u001b[38;5;124mapple\u001b[39m\u001b[38;5;124m\"\u001b[39m, \u001b[38;5;124m\"\u001b[39m\u001b[38;5;124mchopsticks\u001b[39m\u001b[38;5;124m\"\u001b[39m]\n\u001b[1;32m----> 2\u001b[0m \u001b[43mlist_3\u001b[49m\u001b[38;5;241;43m.\u001b[39;49m\u001b[43mremove\u001b[49m\u001b[43m(\u001b[49m\u001b[38;5;124;43m\"\u001b[39;49m\u001b[38;5;124;43mApple\u001b[39;49m\u001b[38;5;124;43m\"\u001b[39;49m\u001b[43m)\u001b[49m\n\u001b[0;32m      3\u001b[0m \u001b[38;5;28mprint\u001b[39m(list_3)\n",
      "\u001b[1;31mValueError\u001b[0m: list.remove(x): x not in list"
     ]
    }
   ],
   "source": [
    "list_3 = [5, True, \"apple\", \"chopsticks\"]\n",
    "list_3.remove(\"Apple\")    # items case sensitive\n",
    "print(list_3)"
   ]
  },
  {
   "cell_type": "code",
   "execution_count": 48,
   "id": "7731fa6b",
   "metadata": {},
   "outputs": [
    {
     "name": "stdout",
     "output_type": "stream",
     "text": [
      "[]\n"
     ]
    }
   ],
   "source": [
    "# removing all elements\n",
    "\n",
    "list_3 = [5, True, \"apple\", \"chopsticks\"]\n",
    "list_3.clear()    # deletes all element from list\n",
    "print(list_3)     # we get empty list"
   ]
  },
  {
   "cell_type": "markdown",
   "id": "45db50b2",
   "metadata": {},
   "source": [
    "## Sorting"
   ]
  },
  {
   "cell_type": "code",
   "execution_count": 49,
   "id": "7b3b1bb2",
   "metadata": {},
   "outputs": [
    {
     "name": "stdout",
     "output_type": "stream",
     "text": [
      "['chopsticks', 'apple', True, 5]\n"
     ]
    }
   ],
   "source": [
    "# reversing all elements with reverse method\n",
    "\n",
    "list_3 = [5, True, \"apple\", \"chopsticks\"]\n",
    "list_3.reverse()    # reverse all element from list\n",
    "print(list_3)    "
   ]
  },
  {
   "cell_type": "code",
   "execution_count": 50,
   "id": "71590644",
   "metadata": {},
   "outputs": [
    {
     "ename": "TypeError",
     "evalue": "'<' not supported between instances of 'str' and 'bool'",
     "output_type": "error",
     "traceback": [
      "\u001b[1;31m---------------------------------------------------------------------------\u001b[0m",
      "\u001b[1;31mTypeError\u001b[0m                                 Traceback (most recent call last)",
      "Input \u001b[1;32mIn [50]\u001b[0m, in \u001b[0;36m<cell line: 4>\u001b[1;34m()\u001b[0m\n\u001b[0;32m      1\u001b[0m \u001b[38;5;66;03m# sort the element \u001b[39;00m\n\u001b[0;32m      3\u001b[0m list_3 \u001b[38;5;241m=\u001b[39m [\u001b[38;5;241m5\u001b[39m, \u001b[38;5;28;01mTrue\u001b[39;00m, \u001b[38;5;124m\"\u001b[39m\u001b[38;5;124mapple\u001b[39m\u001b[38;5;124m\"\u001b[39m, \u001b[38;5;124m\"\u001b[39m\u001b[38;5;124mchopsticks\u001b[39m\u001b[38;5;124m\"\u001b[39m]\n\u001b[1;32m----> 4\u001b[0m \u001b[43mlist_3\u001b[49m\u001b[38;5;241;43m.\u001b[39;49m\u001b[43msort\u001b[49m\u001b[43m(\u001b[49m\u001b[43m)\u001b[49m    \n\u001b[0;32m      5\u001b[0m \u001b[38;5;28mprint\u001b[39m(list_3)\n",
      "\u001b[1;31mTypeError\u001b[0m: '<' not supported between instances of 'str' and 'bool'"
     ]
    }
   ],
   "source": [
    "# sort the element \n",
    "\n",
    "list_3 = [5, True, \"apple\", \"chopsticks\"] # elements contain string, boolean and integer\n",
    "list_3.sort()    \n",
    "print(list_3)"
   ]
  },
  {
   "cell_type": "code",
   "execution_count": 52,
   "id": "eebbb8fb",
   "metadata": {},
   "outputs": [
    {
     "name": "stdout",
     "output_type": "stream",
     "text": [
      "['apple', 'chopsticks', 'drama']\n"
     ]
    }
   ],
   "source": [
    "list_3 = [\"drama\", \"apple\", \"chopsticks\"] # elements contain string only\n",
    "list_3.sort()    # sorts element in alphabetically order\n",
    "print(list_3)"
   ]
  },
  {
   "cell_type": "code",
   "execution_count": 54,
   "id": "14e9cdf7",
   "metadata": {},
   "outputs": [
    {
     "name": "stdout",
     "output_type": "stream",
     "text": [
      "[-1, 0, 23, 56, 71]\n"
     ]
    }
   ],
   "source": [
    "list_3 = [23,56,71,0,-1] # elements contain integer only\n",
    "list_3.sort()    # sorts element in ascending order\n",
    "print(list_3)"
   ]
  },
  {
   "cell_type": "code",
   "execution_count": 57,
   "id": "9f47f2f8",
   "metadata": {},
   "outputs": [
    {
     "name": "stdout",
     "output_type": "stream",
     "text": [
      "[-1, 0, 23, 56, 71]\n",
      "[23, 56, 71, 0, -1]\n"
     ]
    }
   ],
   "source": [
    "list_3 = [23,56,71,0,-1]\n",
    "list_3new = sorted(list_3)\n",
    "print(list_3new)\n",
    "print(list_3)"
   ]
  },
  {
   "cell_type": "markdown",
   "id": "a240a31d",
   "metadata": {},
   "source": [
    "## Mutable List"
   ]
  },
  {
   "cell_type": "code",
   "execution_count": 60,
   "id": "095b8a96",
   "metadata": {
    "scrolled": true
   },
   "outputs": [
    {
     "name": "stdout",
     "output_type": "stream",
     "text": [
      "[23, 56, 71, 0, -1, 1, 2, 3, 4]\n"
     ]
    }
   ],
   "source": [
    "list_3 = [23,56,71,0,-1]\n",
    "list_4 = [1,2,3,4]\n",
    "list_5 = list_3 + list_4\n",
    "print(list_5)"
   ]
  },
  {
   "cell_type": "markdown",
   "id": "9d172e06",
   "metadata": {},
   "source": [
    "## Ordering List"
   ]
  },
  {
   "cell_type": "code",
   "execution_count": 61,
   "id": "4c909ff6",
   "metadata": {},
   "outputs": [
    {
     "name": "stdout",
     "output_type": "stream",
     "text": [
      "[56, 71, 0, -1]\n"
     ]
    }
   ],
   "source": [
    "a = list_5[1:5]\n",
    "print(a)"
   ]
  },
  {
   "cell_type": "code",
   "execution_count": 62,
   "id": "03b80c3e",
   "metadata": {},
   "outputs": [
    {
     "name": "stdout",
     "output_type": "stream",
     "text": [
      "[56, 71, 0, -1, 1, 2, 3, 4]\n"
     ]
    }
   ],
   "source": [
    "a = list_5[1:]\n",
    "print(a)"
   ]
  },
  {
   "cell_type": "code",
   "execution_count": 63,
   "id": "357849a5",
   "metadata": {},
   "outputs": [
    {
     "name": "stdout",
     "output_type": "stream",
     "text": [
      "[23, 56, 71, 0, -1, 1, 2, 3, 4]\n"
     ]
    }
   ],
   "source": [
    "a = list_5[::1]    # beginning to end with step(gap) of 1\n",
    "print(a)"
   ]
  },
  {
   "cell_type": "code",
   "execution_count": 64,
   "id": "dc72d954",
   "metadata": {},
   "outputs": [
    {
     "name": "stdout",
     "output_type": "stream",
     "text": [
      "[23, 0, 2]\n"
     ]
    }
   ],
   "source": [
    "a = list_5[::3]    # beginning to end with step(gap) of 3\n",
    "print(a)"
   ]
  },
  {
   "cell_type": "code",
   "execution_count": 68,
   "id": "736f4ace",
   "metadata": {},
   "outputs": [
    {
     "name": "stdout",
     "output_type": "stream",
     "text": [
      "[23, 71, -1]\n"
     ]
    }
   ],
   "source": [
    "a = list_5[:6:2]    # beginning to fifth element with step(gap) of 2\n",
    "print(a)"
   ]
  },
  {
   "cell_type": "markdown",
   "id": "fe702c15",
   "metadata": {},
   "source": [
    "## Duplicating list"
   ]
  },
  {
   "cell_type": "code",
   "execution_count": 70,
   "id": "63f0fd77",
   "metadata": {},
   "outputs": [
    {
     "name": "stdout",
     "output_type": "stream",
     "text": [
      "[23, 56, 71, 0, -1, 1, 2, 3, 4]\n"
     ]
    }
   ],
   "source": [
    "list_6 = list_5    # copy the contents as it is\n",
    "print(list_6)"
   ]
  },
  {
   "cell_type": "code",
   "execution_count": 74,
   "id": "69059a6b",
   "metadata": {},
   "outputs": [
    {
     "name": "stdout",
     "output_type": "stream",
     "text": [
      "[23, 56, 71, 0, -1, 1, 2, 3, 4, 'papaya']\n",
      "[23, 56, 71, 0, -1, 1, 2, 3, 4, 'papaya']\n"
     ]
    }
   ],
   "source": [
    "list_5 = [23, 56, 71, 0, -1, 1, 2, 3, 4]\n",
    "list_6 = list_5    # copy the contents as it is and modify the original when accessed\n",
    "list_6.append(\"papaya\")\n",
    "print(list_6)\n",
    "print(list_5)"
   ]
  },
  {
   "cell_type": "code",
   "execution_count": 75,
   "id": "ef3e7e1e",
   "metadata": {},
   "outputs": [
    {
     "name": "stdout",
     "output_type": "stream",
     "text": [
      "[23, 56, 71, 0, -1, 1, 2, 3, 4, 'papaya']\n",
      "[23, 56, 71, 0, -1, 1, 2, 3, 4]\n"
     ]
    }
   ],
   "source": [
    "list_5 = [23, 56, 71, 0, -1, 1, 2, 3, 4]\n",
    "list_6 = list_5.copy()    # copy the contents as it is but doesnt change content of original list\n",
    "list_6.append(\"papaya\")\n",
    "print(list_6)\n",
    "print(list_5)"
   ]
  },
  {
   "cell_type": "code",
   "execution_count": 76,
   "id": "5344294c",
   "metadata": {},
   "outputs": [
    {
     "name": "stdout",
     "output_type": "stream",
     "text": [
      "[23, 56, 71, 0, -1, 1, 2, 3, 4, 'papaya']\n",
      "[23, 56, 71, 0, -1, 1, 2, 3, 4]\n"
     ]
    }
   ],
   "source": [
    "# List fuction can also be used\n",
    "\n",
    "list_5 = [23, 56, 71, 0, -1, 1, 2, 3, 4]\n",
    "list_6 = list(list_5)    # copy the contents as it is but doesnt change content of original list\n",
    "list_6.append(\"papaya\")\n",
    "print(list_6)\n",
    "print(list_5)"
   ]
  },
  {
   "cell_type": "code",
   "execution_count": 77,
   "id": "c4fcee0c",
   "metadata": {},
   "outputs": [
    {
     "name": "stdout",
     "output_type": "stream",
     "text": [
      "[23, 56, 71, 0, -1, 1, 2, 3, 4, 'papaya']\n",
      "[23, 56, 71, 0, -1, 1, 2, 3, 4]\n"
     ]
    }
   ],
   "source": [
    "# slicing can also be used\n",
    "\n",
    "list_5 = [23, 56, 71, 0, -1, 1, 2, 3, 4]\n",
    "list_6 = list_5[:]    # copy the contents as it is but doesnt change content of original list\n",
    "list_6.append(\"papaya\")\n",
    "print(list_6)\n",
    "print(list_5)"
   ]
  },
  {
   "cell_type": "code",
   "execution_count": 79,
   "id": "9b8bb1d6",
   "metadata": {},
   "outputs": [
    {
     "name": "stdout",
     "output_type": "stream",
     "text": [
      "[1, 2, 3, 4, 5]\n",
      "[1, 4, 9, 16, 25]\n"
     ]
    }
   ],
   "source": [
    "# List Comphrension\n",
    "\n",
    "list_7 = [1,2,3,4,5]\n",
    "b = [i*i for i in list_7]\n",
    "\n",
    "print(list_7)\n",
    "print(b)"
   ]
  }
 ],
 "metadata": {
  "kernelspec": {
   "display_name": "Python 3 (ipykernel)",
   "language": "python",
   "name": "python3"
  },
  "language_info": {
   "codemirror_mode": {
    "name": "ipython",
    "version": 3
   },
   "file_extension": ".py",
   "mimetype": "text/x-python",
   "name": "python",
   "nbconvert_exporter": "python",
   "pygments_lexer": "ipython3",
   "version": "3.10.5"
  }
 },
 "nbformat": 4,
 "nbformat_minor": 5
}
