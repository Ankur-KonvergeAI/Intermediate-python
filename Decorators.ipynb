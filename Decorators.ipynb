{
 "cells": [
  {
   "cell_type": "markdown",
   "id": "dbd32664",
   "metadata": {},
   "source": [
    "# Function decorators"
   ]
  },
  {
   "cell_type": "code",
   "execution_count": null,
   "id": "9fc16c15",
   "metadata": {},
   "outputs": [],
   "source": [
    "@mydecorator\n",
    "\n",
    "def dosomething():\n",
    "    pass\n",
    "    "
   ]
  },
  {
   "cell_type": "code",
   "execution_count": 1,
   "id": "ab63eaba",
   "metadata": {},
   "outputs": [
    {
     "name": "stdout",
     "output_type": "stream",
     "text": [
      "Start\n",
      "Alex\n",
      "End\n"
     ]
    }
   ],
   "source": [
    "def start_end_decorator(func):\n",
    "    \n",
    "    def wrapper():\n",
    "        print(\"Start\")\n",
    "        func()\n",
    "        print(\"End\")\n",
    "    return wrapper\n",
    "\n",
    "def print_name():\n",
    "    print(\"Alex\")\n",
    "    \n",
    "print_name = start_end_decorator(print_name)\n",
    "\n",
    "print_name()"
   ]
  },
  {
   "cell_type": "code",
   "execution_count": null,
   "id": "247fe14e",
   "metadata": {},
   "outputs": [],
   "source": [
    "import fuctools\n",
    "\n",
    "def repeat(num_times):\n",
    "    \n",
    "    "
   ]
  },
  {
   "cell_type": "code",
   "execution_count": null,
   "id": "4926a8e5",
   "metadata": {},
   "outputs": [],
   "source": []
  },
  {
   "cell_type": "code",
   "execution_count": null,
   "id": "32b7b544",
   "metadata": {},
   "outputs": [],
   "source": []
  },
  {
   "cell_type": "code",
   "execution_count": null,
   "id": "662126ad",
   "metadata": {},
   "outputs": [],
   "source": []
  },
  {
   "cell_type": "code",
   "execution_count": null,
   "id": "a8e18e4e",
   "metadata": {},
   "outputs": [],
   "source": []
  },
  {
   "cell_type": "code",
   "execution_count": null,
   "id": "bf050f13",
   "metadata": {},
   "outputs": [],
   "source": []
  },
  {
   "cell_type": "code",
   "execution_count": null,
   "id": "08d61881",
   "metadata": {},
   "outputs": [],
   "source": []
  },
  {
   "cell_type": "code",
   "execution_count": null,
   "id": "67fa0b40",
   "metadata": {},
   "outputs": [],
   "source": []
  },
  {
   "cell_type": "code",
   "execution_count": null,
   "id": "c8baae1b",
   "metadata": {},
   "outputs": [],
   "source": []
  },
  {
   "cell_type": "code",
   "execution_count": null,
   "id": "2755ee77",
   "metadata": {},
   "outputs": [],
   "source": []
  },
  {
   "cell_type": "code",
   "execution_count": null,
   "id": "56758912",
   "metadata": {},
   "outputs": [],
   "source": [
    "# A decorator function takes another function as argument, wraps its behaviour inside\n",
    "# an inner function, and returns the wrapped function.\n",
    "def start_end_decorator(func):\n",
    "    \n",
    "    def wrapper():\n",
    "        print('Start')\n",
    "        func()\n",
    "        print('End')\n",
    "    return wrapper\n",
    "\n",
    "def print_name():\n",
    "    print('Alex')\n",
    "    \n",
    "print_name()\n",
    "\n",
    "print()\n",
    "\n",
    "# Now wrap the function by passing it as argument to the decorator function\n",
    "# and asign it to itself -> Our function has extended behaviour!\n",
    "print_name = start_end_decorator(print_name)\n",
    "print_name()"
   ]
  },
  {
   "cell_type": "code",
   "execution_count": null,
   "id": "9aa8689b",
   "metadata": {},
   "outputs": [],
   "source": []
  },
  {
   "cell_type": "markdown",
   "id": "51b90f5f",
   "metadata": {},
   "source": [
    "# The decorator syntax"
   ]
  },
  {
   "cell_type": "code",
   "execution_count": null,
   "id": "6f070dd5",
   "metadata": {},
   "outputs": [],
   "source": [
    "@start_end_decorator\n",
    "def print_name():\n",
    "    print('Alex')\n",
    "    \n",
    "print_name()"
   ]
  },
  {
   "cell_type": "code",
   "execution_count": null,
   "id": "12f4d456",
   "metadata": {},
   "outputs": [],
   "source": []
  },
  {
   "cell_type": "markdown",
   "id": "9e904007",
   "metadata": {},
   "source": [
    "# What about function arguments"
   ]
  },
  {
   "cell_type": "code",
   "execution_count": null,
   "id": "369dbe14",
   "metadata": {},
   "outputs": [],
   "source": [
    "def start_end_decorator_2(func):\n",
    "    \n",
    "    def wrapper(*args, **kwargs):\n",
    "        print('Start')\n",
    "        func(*args, **kwargs)\n",
    "        print('End')\n",
    "    return wrapper\n",
    "\n",
    "@start_end_decorator_2\n",
    "def add_5(x):\n",
    "    return x + 5\n",
    "\n",
    "result = add_5(10)\n",
    "print(result)"
   ]
  },
  {
   "cell_type": "code",
   "execution_count": null,
   "id": "1f47ef88",
   "metadata": {},
   "outputs": [],
   "source": []
  },
  {
   "cell_type": "markdown",
   "id": "444d3f1c",
   "metadata": {},
   "source": [
    "# Return values"
   ]
  },
  {
   "cell_type": "code",
   "execution_count": null,
   "id": "a114db79",
   "metadata": {},
   "outputs": [],
   "source": [
    "def start_end_decorator_3(func):\n",
    "    \n",
    "    def wrapper(*args, **kwargs):\n",
    "        print('Start')\n",
    "        result = func(*args, **kwargs)\n",
    "        print('End')\n",
    "        return result\n",
    "    return wrapper\n",
    "\n",
    "@start_end_decorator_3\n",
    "def add_5(x):\n",
    "    return x + 5\n",
    "\n",
    "result = add_5(10)\n",
    "print(result)"
   ]
  },
  {
   "cell_type": "code",
   "execution_count": null,
   "id": "b596262c",
   "metadata": {},
   "outputs": [],
   "source": []
  },
  {
   "cell_type": "markdown",
   "id": "d4f75725",
   "metadata": {},
   "source": [
    "# \n",
    "What about the function identity?"
   ]
  },
  {
   "cell_type": "code",
   "execution_count": null,
   "id": "c0182df7",
   "metadata": {},
   "outputs": [],
   "source": [
    "print(add_5.__name__)\n",
    "help(add_5)"
   ]
  },
  {
   "cell_type": "code",
   "execution_count": null,
   "id": "df053f3e",
   "metadata": {},
   "outputs": [],
   "source": [
    "import functools\n",
    "def start_end_decorator_4(func):\n",
    "    \n",
    "    @functools.wraps(func)\n",
    "    def wrapper(*args, **kwargs):\n",
    "        print('Start')\n",
    "        result = func(*args, **kwargs)\n",
    "        print('End')\n",
    "        return result\n",
    "    return wrapper\n",
    "\n",
    "@start_end_decorator_4\n",
    "def add_5(x):\n",
    "    return x + 5\n",
    "result = add_5(10)\n",
    "print(result)\n",
    "print(add_5.__name__)\n",
    "help(add_5)"
   ]
  },
  {
   "cell_type": "markdown",
   "id": "129b45c1",
   "metadata": {},
   "source": [
    "#  The final template for own decorators"
   ]
  },
  {
   "cell_type": "code",
   "execution_count": null,
   "id": "77a227c0",
   "metadata": {},
   "outputs": [],
   "source": [
    "import functools\n",
    "\n",
    "def my_decorator(func):\n",
    "    @functools.wraps(func)\n",
    "    def wrapper(*args, **kwargs):\n",
    "        # Do something before\n",
    "        result = func(*args, **kwargs)\n",
    "        # Do something after\n",
    "        return result\n",
    "    return wrapper"
   ]
  },
  {
   "cell_type": "code",
   "execution_count": null,
   "id": "bc3c1e99",
   "metadata": {},
   "outputs": [],
   "source": []
  },
  {
   "cell_type": "markdown",
   "id": "c14e16cb",
   "metadata": {},
   "source": [
    "# Decorator function arguments"
   ]
  },
  {
   "cell_type": "code",
   "execution_count": null,
   "id": "e01f28e7",
   "metadata": {},
   "outputs": [],
   "source": [
    "def repeat(num_times):\n",
    "    def decorator_repeat(func):\n",
    "        @functools.wraps(func)\n",
    "        def wrapper(*args, **kwargs):\n",
    "            for _ in range(num_times):\n",
    "                result = func(*args, **kwargs)\n",
    "            return result\n",
    "        return wrapper\n",
    "    return decorator_repeat\n",
    "\n",
    "@repeat(num_times=3)\n",
    "def greet(name):\n",
    "    print(f\"Hello {name}\")\n",
    "    \n",
    "greet('Alex')"
   ]
  },
  {
   "cell_type": "code",
   "execution_count": null,
   "id": "b918f6e3",
   "metadata": {},
   "outputs": [],
   "source": []
  },
  {
   "cell_type": "markdown",
   "id": "d49e2d6a",
   "metadata": {},
   "source": [
    "# Nested Decorators"
   ]
  },
  {
   "cell_type": "code",
   "execution_count": null,
   "id": "70be6e1e",
   "metadata": {},
   "outputs": [],
   "source": [
    "# a decorator function that prints debug information about the wrapped function\n",
    "def debug(func):\n",
    "    @functools.wraps(func)\n",
    "    def wrapper(*args, **kwargs):\n",
    "        args_repr = [repr(a) for a in args]\n",
    "        kwargs_repr = [f\"{k}={v!r}\" for k, v in kwargs.items()]\n",
    "        signature = \", \".join(args_repr + kwargs_repr)\n",
    "        print(f\"Calling {func.__name__}({signature})\")\n",
    "        result = func(*args, **kwargs)\n",
    "        print(f\"{func.__name__!r} returned {result!r}\")\n",
    "        return result\n",
    "    return wrapper\n",
    "\n",
    "@debug\n",
    "@start_end_decorator_4\n",
    "def say_hello(name):\n",
    "    greeting = f'Hello {name}'\n",
    "    print(greeting)\n",
    "    return greeting\n",
    "\n",
    "# now `debug` is executed first and calls `@start_end_decorator_4`, which then calls `say_hello`\n",
    "say_hello(name='Alex')"
   ]
  },
  {
   "cell_type": "markdown",
   "id": "db150ffe",
   "metadata": {},
   "source": [
    "# Class decorators"
   ]
  },
  {
   "cell_type": "code",
   "execution_count": null,
   "id": "e27b3d3d",
   "metadata": {},
   "outputs": [],
   "source": [
    "import functools\n",
    "\n",
    "class CountCalls:\n",
    "    # the init needs to have the func as argument and stores it\n",
    "    def __init__(self, func):\n",
    "        functools.update_wrapper(self, func)\n",
    "        self.func = func\n",
    "        self.num_calls = 0\n",
    "    \n",
    "    # extend functionality, execute function, and return the result\n",
    "    def __call__(self, *args, **kwargs):\n",
    "        self.num_calls += 1\n",
    "        print(f\"Call {self.num_calls} of {self.func.__name__!r}\")\n",
    "        return self.func(*args, **kwargs)\n",
    "\n",
    "@CountCalls\n",
    "def say_hello(num):\n",
    "    print(\"Hello!\")\n",
    "    \n",
    "say_hello(5)\n",
    "say_hello(5)"
   ]
  },
  {
   "cell_type": "code",
   "execution_count": null,
   "id": "90d8fe68",
   "metadata": {},
   "outputs": [],
   "source": []
  },
  {
   "cell_type": "code",
   "execution_count": null,
   "id": "bac02593",
   "metadata": {},
   "outputs": [],
   "source": []
  },
  {
   "cell_type": "code",
   "execution_count": null,
   "id": "1a619081",
   "metadata": {},
   "outputs": [],
   "source": []
  }
 ],
 "metadata": {
  "kernelspec": {
   "display_name": "Python 3 (ipykernel)",
   "language": "python",
   "name": "python3"
  },
  "language_info": {
   "codemirror_mode": {
    "name": "ipython",
    "version": 3
   },
   "file_extension": ".py",
   "mimetype": "text/x-python",
   "name": "python",
   "nbconvert_exporter": "python",
   "pygments_lexer": "ipython3",
   "version": "3.10.5"
  }
 },
 "nbformat": 4,
 "nbformat_minor": 5
}
