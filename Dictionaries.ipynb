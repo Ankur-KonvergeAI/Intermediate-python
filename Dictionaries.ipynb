{
 "cells": [
  {
   "cell_type": "markdown",
   "id": "70af9953",
   "metadata": {},
   "source": [
    "## Create a dictionary"
   ]
  },
  {
   "cell_type": "code",
   "execution_count": 2,
   "id": "203d4c4a",
   "metadata": {},
   "outputs": [
    {
     "name": "stdout",
     "output_type": "stream",
     "text": [
      "{'name': 'Ankur', 'age': 20}\n"
     ]
    }
   ],
   "source": [
    "dict = {\"name\": \"Ankur\", \"age\": 20}    # \n",
    "print(dict)"
   ]
  },
  {
   "cell_type": "code",
   "execution_count": 5,
   "id": "0d90a359",
   "metadata": {},
   "outputs": [
    {
     "name": "stdout",
     "output_type": "stream",
     "text": [
      "{'name': 'Max', 'age': 28, 'city': 'New York'}\n"
     ]
    }
   ],
   "source": [
    "dict1 = {\"name\":\"Max\", \"age\":28, \"city\":\"New York\"}\n",
    "print(dict1)"
   ]
  },
  {
   "cell_type": "code",
   "execution_count": 13,
   "id": "ed0993ab",
   "metadata": {},
   "outputs": [
    {
     "name": "stdout",
     "output_type": "stream",
     "text": [
      "28\n"
     ]
    }
   ],
   "source": [
    "value = dict1[\"age\"]\n",
    "print(value)"
   ]
  },
  {
   "cell_type": "code",
   "execution_count": 16,
   "id": "d8cd575a",
   "metadata": {},
   "outputs": [
    {
     "ename": "TypeError",
     "evalue": "'dict' object is not callable",
     "output_type": "error",
     "traceback": [
      "\u001b[1;31m---------------------------------------------------------------------------\u001b[0m",
      "\u001b[1;31mTypeError\u001b[0m                                 Traceback (most recent call last)",
      "Input \u001b[1;32mIn [16]\u001b[0m, in \u001b[0;36m<cell line: 3>\u001b[1;34m()\u001b[0m\n\u001b[0;32m      1\u001b[0m \u001b[38;5;66;03m# or use the dict constructor, note: no quotes necessary for keys\u001b[39;00m\n\u001b[1;32m----> 3\u001b[0m dict2 \u001b[38;5;241m=\u001b[39m \u001b[38;5;28;43mdict\u001b[39;49m\u001b[43m(\u001b[49m\u001b[43mname\u001b[49m\u001b[38;5;241;43m=\u001b[39;49m\u001b[38;5;124;43m\"\u001b[39;49m\u001b[38;5;124;43mLisa\u001b[39;49m\u001b[38;5;124;43m\"\u001b[39;49m\u001b[43m,\u001b[49m\u001b[43m \u001b[49m\u001b[43mage\u001b[49m\u001b[38;5;241;43m=\u001b[39;49m\u001b[38;5;241;43m27\u001b[39;49m\u001b[43m,\u001b[49m\u001b[43m \u001b[49m\u001b[43mcity\u001b[49m\u001b[38;5;241;43m=\u001b[39;49m\u001b[38;5;124;43m\"\u001b[39;49m\u001b[38;5;124;43mBoston\u001b[39;49m\u001b[38;5;124;43m\"\u001b[39;49m\u001b[43m)\u001b[49m\n\u001b[0;32m      4\u001b[0m \u001b[38;5;28mprint\u001b[39m(dict2)\n",
      "\u001b[1;31mTypeError\u001b[0m: 'dict' object is not callable"
     ]
    }
   ],
   "source": [
    "# or use the dict constructor, note: no quotes necessary for keys\n",
    "\n",
    "dict2 = dict(name=\"Lisa\", age=27, city=\"Boston\")\n",
    "print(dict2)"
   ]
  },
  {
   "cell_type": "markdown",
   "id": "9e389f4a",
   "metadata": {},
   "source": [
    "## Access items"
   ]
  },
  {
   "cell_type": "code",
   "execution_count": 14,
   "id": "51bfd81f",
   "metadata": {},
   "outputs": [
    {
     "name": "stdout",
     "output_type": "stream",
     "text": [
      "Max\n"
     ]
    }
   ],
   "source": [
    "name_in_dict = my_dict[\"name\"]\n",
    "print(name_in_dict)\n",
    "\n",
    "# KeyError if no key is found\n",
    "# print(my_dict[\"lastname\"])"
   ]
  },
  {
   "cell_type": "code",
   "execution_count": 22,
   "id": "59a0e38e",
   "metadata": {},
   "outputs": [
    {
     "name": "stdout",
     "output_type": "stream",
     "text": [
      "Max\n"
     ]
    }
   ],
   "source": [
    "value = dict1[\"name\"]    #   print the content with key-name     \n",
    "print(value)"
   ]
  },
  {
   "cell_type": "code",
   "execution_count": 23,
   "id": "97fcec1d",
   "metadata": {},
   "outputs": [
    {
     "ename": "KeyError",
     "evalue": "'lastname'",
     "output_type": "error",
     "traceback": [
      "\u001b[1;31m---------------------------------------------------------------------------\u001b[0m",
      "\u001b[1;31mKeyError\u001b[0m                                  Traceback (most recent call last)",
      "Input \u001b[1;32mIn [23]\u001b[0m, in \u001b[0;36m<cell line: 1>\u001b[1;34m()\u001b[0m\n\u001b[1;32m----> 1\u001b[0m value \u001b[38;5;241m=\u001b[39m \u001b[43mdict1\u001b[49m\u001b[43m[\u001b[49m\u001b[38;5;124;43m\"\u001b[39;49m\u001b[38;5;124;43mlastname\u001b[39;49m\u001b[38;5;124;43m\"\u001b[39;49m\u001b[43m]\u001b[49m    \u001b[38;5;66;03m# key not in dictionary\u001b[39;00m\n\u001b[0;32m      2\u001b[0m \u001b[38;5;28mprint\u001b[39m(value)\n",
      "\u001b[1;31mKeyError\u001b[0m: 'lastname'"
     ]
    }
   ],
   "source": [
    "value = dict1[\"lastname\"]    # key not in dictionary\n",
    "print(value)"
   ]
  },
  {
   "cell_type": "markdown",
   "id": "1c9bd8c9",
   "metadata": {},
   "source": [
    "## Add and change items"
   ]
  },
  {
   "cell_type": "code",
   "execution_count": 25,
   "id": "7a8748a1",
   "metadata": {},
   "outputs": [
    {
     "name": "stdout",
     "output_type": "stream",
     "text": [
      "{'name': 'Max', 'age': 28, 'city': 'New York', 'email': 'max@xyz.com'}\n"
     ]
    }
   ],
   "source": [
    "# add a new key\n",
    "my_dict[\"email\"] = \"max@xyz.com\"\n",
    "print(my_dict)"
   ]
  },
  {
   "cell_type": "code",
   "execution_count": 26,
   "id": "0a039685",
   "metadata": {},
   "outputs": [
    {
     "name": "stdout",
     "output_type": "stream",
     "text": [
      "{'name': 'Max', 'age': 28, 'city': 'New York', 'email': 'coolmax@xyz.com'}\n"
     ]
    }
   ],
   "source": [
    "# or overwrite the now existing key\n",
    "my_dict[\"email\"] = \"coolmax@xyz.com\"    # 'max@xyz.com' replaced by coolmax@xyz.com\n",
    "print(my_dict)"
   ]
  },
  {
   "cell_type": "markdown",
   "id": "96fb0330",
   "metadata": {},
   "source": [
    "## Delete items"
   ]
  },
  {
   "cell_type": "code",
   "execution_count": 32,
   "id": "87bc2087",
   "metadata": {},
   "outputs": [
    {
     "name": "stdout",
     "output_type": "stream",
     "text": [
      "{'name': 'Max', 'age': 28, 'city': 'New York'}\n"
     ]
    }
   ],
   "source": [
    "# delete a key-value pair\n",
    "my_dict = {'name': 'Max', 'age': 28, 'city': 'New York', 'email': 'coolmax@xyz.com'}\n",
    "del my_dict[\"email\"]     # delete a key(email)-value pair\n",
    "print(my_dict)"
   ]
  },
  {
   "cell_type": "code",
   "execution_count": 28,
   "id": "ff425ec9",
   "metadata": {},
   "outputs": [
    {
     "name": "stdout",
     "output_type": "stream",
     "text": [
      "popped value: 28\n"
     ]
    }
   ],
   "source": [
    "# this returns the value and removes the key-value pair\n",
    "\n",
    "print(\"popped value:\", my_dict.pop(\"age\"))"
   ]
  },
  {
   "cell_type": "code",
   "execution_count": 35,
   "id": "b809ccc6",
   "metadata": {},
   "outputs": [
    {
     "name": "stdout",
     "output_type": "stream",
     "text": [
      "popped item: ('age', 28)\n",
      "{'name': 'Max'}\n"
     ]
    }
   ],
   "source": [
    "print(\"popped item:\", my_dict.popitem())    ## return and removes the last inserted key-value pair \n",
    "print(my_dict)"
   ]
  },
  {
   "cell_type": "markdown",
   "id": "13e28194",
   "metadata": {},
   "source": [
    "## Check for keys"
   ]
  },
  {
   "cell_type": "code",
   "execution_count": 42,
   "id": "740f4108",
   "metadata": {},
   "outputs": [
    {
     "name": "stdout",
     "output_type": "stream",
     "text": [
      "Max\n"
     ]
    }
   ],
   "source": [
    "# use if .. in ..\n",
    "\n",
    "my_dict = {\"name\":\"Max\", \"age\":28, \"city\":\"New York\"}\n",
    "\n",
    "if \"name\" in my_dict:\n",
    "    print(my_dict[\"name\"])"
   ]
  },
  {
   "cell_type": "code",
   "execution_count": 47,
   "id": "018b8658",
   "metadata": {},
   "outputs": [
    {
     "name": "stdout",
     "output_type": "stream",
     "text": [
      "incorrect key\n"
     ]
    }
   ],
   "source": [
    "my_dict = {\"name\":\"Max\", \"age\":28, \"city\":\"New York\"}\n",
    "\n",
    "if \"lastname\" in my_dict:\n",
    "    print(my_dict[\"lastname\"])\n",
    "else:\n",
    "    print(\"incorrect key\")"
   ]
  },
  {
   "cell_type": "code",
   "execution_count": 37,
   "id": "5e80de6c",
   "metadata": {},
   "outputs": [
    {
     "name": "stdout",
     "output_type": "stream",
     "text": [
      "No key found\n"
     ]
    }
   ],
   "source": [
    "# use try except\n",
    "\n",
    "try:\n",
    "    print(my_dict[\"firstname\"])\n",
    "except KeyError:\n",
    "    print(\"No key found\")"
   ]
  },
  {
   "cell_type": "code",
   "execution_count": null,
   "id": "792da227",
   "metadata": {},
   "outputs": [],
   "source": [
    "try:\n",
    "    print(my_dict[\"firstname\"])\n",
    "except KeyError:\n",
    "    print(\"No key found\")"
   ]
  },
  {
   "cell_type": "markdown",
   "id": "2c1798b8",
   "metadata": {},
   "source": [
    "## Looping through dictionary"
   ]
  },
  {
   "cell_type": "code",
   "execution_count": 50,
   "id": "f62d0e3f",
   "metadata": {},
   "outputs": [
    {
     "name": "stdout",
     "output_type": "stream",
     "text": [
      "name Max\n",
      "age 28\n",
      "city New York\n"
     ]
    }
   ],
   "source": [
    "# loop over keys\n",
    "for key in my_dict:\n",
    "    print(key, my_dict[key])"
   ]
  },
  {
   "cell_type": "code",
   "execution_count": 49,
   "id": "d3b195ff",
   "metadata": {},
   "outputs": [
    {
     "name": "stdout",
     "output_type": "stream",
     "text": [
      "name Max\n",
      "age 28\n",
      "city New York\n"
     ]
    }
   ],
   "source": [
    "# loop over keys\n",
    "\n",
    "for hello in my_dict:\n",
    "    print(hello, my_dict[hello])"
   ]
  },
  {
   "cell_type": "code",
   "execution_count": 39,
   "id": "ca1e9df7",
   "metadata": {},
   "outputs": [
    {
     "name": "stdout",
     "output_type": "stream",
     "text": [
      "name\n"
     ]
    }
   ],
   "source": [
    "# loop over keys\n",
    "\n",
    "for key in my_dict.keys():\n",
    "    print(key)"
   ]
  },
  {
   "cell_type": "code",
   "execution_count": 51,
   "id": "da09f75e",
   "metadata": {},
   "outputs": [
    {
     "name": "stdout",
     "output_type": "stream",
     "text": [
      "Max\n",
      "28\n",
      "New York\n"
     ]
    }
   ],
   "source": [
    "# loop over values\n",
    "\n",
    "for value in my_dict.values():   # only values are looped, not keys \n",
    "    print(value)"
   ]
  },
  {
   "cell_type": "code",
   "execution_count": 52,
   "id": "4f9ff120",
   "metadata": {},
   "outputs": [
    {
     "name": "stdout",
     "output_type": "stream",
     "text": [
      "name Max\n",
      "age 28\n",
      "city New York\n"
     ]
    }
   ],
   "source": [
    "# loop over keys and values\n",
    "for key, value in my_dict.items():    # key & values are looped together\n",
    "    print(key, value)"
   ]
  },
  {
   "cell_type": "markdown",
   "id": "8201144b",
   "metadata": {},
   "source": [
    "## Copy a dictionary"
   ]
  },
  {
   "cell_type": "code",
   "execution_count": 55,
   "id": "549bb702",
   "metadata": {},
   "outputs": [],
   "source": [
    "dict_org = {\"name\":\"Max\", \"age\":28, \"city\":\"New York\"}\n",
    "\n",
    "dict_copy = dict_org    #copies the reference to the dict"
   ]
  },
  {
   "cell_type": "code",
   "execution_count": 58,
   "id": "4753e1b6",
   "metadata": {},
   "outputs": [
    {
     "name": "stdout",
     "output_type": "stream",
     "text": [
      "{'name': 'Lisa', 'age': 28, 'city': 'New York'}\n",
      "{'name': 'Lisa', 'age': 28, 'city': 'New York'}\n"
     ]
    }
   ],
   "source": [
    "dict_copy[\"name\"] = \"Lisa\"   # modifying the copy also affects the original\n",
    "print(dict_copy)\n",
    "print(dict_org)"
   ]
  },
  {
   "cell_type": "code",
   "execution_count": 64,
   "id": "f36bc2b2",
   "metadata": {},
   "outputs": [
    {
     "name": "stdout",
     "output_type": "stream",
     "text": [
      "{'name': 'Lisa', 'age': 28, 'city': 'New York'}\n",
      "{'name': 'Max', 'age': 28, 'city': 'New York'}\n"
     ]
    }
   ],
   "source": [
    "# use copy(), or dict(x) to actually copy the dict\n",
    "\n",
    "dict_org = {\"name\":\"Max\", \"age\":28, \"city\":\"New York\"}\n",
    "dict_copy = dict_org.copy()    # modifying the copy does not affect the original\n",
    "\n",
    "dict_copy[\"name\"] = \"Lisa\"\n",
    "print(dict_copy)\n",
    "print(dict_org)"
   ]
  },
  {
   "cell_type": "markdown",
   "id": "3664daa4",
   "metadata": {},
   "source": [
    "##  Merge two dictionaries"
   ]
  },
  {
   "cell_type": "code",
   "execution_count": null,
   "id": "aef5347e",
   "metadata": {},
   "outputs": [],
   "source": [
    "# Use the update() method to merge 2 dicts\n",
    "# existing keys are overwritten, new keys are added\n",
    "\n",
    "my_dict = {\"name\":\"Max\", \"age\":28, \"email\":\"max@xyz.com\"}\n",
    "my_dict_2 = dict(name=\"Lisa\", age=27, city=\"Boston\")\n",
    "\n",
    "my_dict.update(my_dict_2)\n",
    "print(my_dict)"
   ]
  },
  {
   "cell_type": "code",
   "execution_count": null,
   "id": "f62fc834",
   "metadata": {},
   "outputs": [],
   "source": []
  },
  {
   "cell_type": "markdown",
   "id": "d1d402fc",
   "metadata": {},
   "source": [
    "## Possible key types"
   ]
  },
  {
   "cell_type": "code",
   "execution_count": 67,
   "id": "06b91908",
   "metadata": {},
   "outputs": [
    {
     "name": "stdout",
     "output_type": "stream",
     "text": [
      "9 36 81\n"
     ]
    }
   ],
   "source": [
    "my_dict = {3: 9, 6: 36, 9:81}\n",
    "\n",
    "\n",
    "print(my_dict[3], my_dict[6], my_dict[9])    # my_dict[0] as index is not possible"
   ]
  },
  {
   "cell_type": "code",
   "execution_count": 68,
   "id": "3b4a8e72",
   "metadata": {},
   "outputs": [
    {
     "name": "stdout",
     "output_type": "stream",
     "text": [
      "15\n"
     ]
    }
   ],
   "source": [
    "# use a tuple with immutable elements (e.g. number, string)\n",
    "\n",
    "print(my_dict[my_tuple])"
   ]
  },
  {
   "cell_type": "code",
   "execution_count": 75,
   "id": "7538d4ae",
   "metadata": {},
   "outputs": [
    {
     "name": "stdout",
     "output_type": "stream",
     "text": [
      "15\n"
     ]
    }
   ],
   "source": [
    "# use a tuple with immutable elements (e.g. number, string)\n",
    "my_tuple = (8, 7)\n",
    "my_dict = {my_tuple: 15}\n",
    "\n",
    "print(my_dict[8, 7])"
   ]
  },
  {
   "cell_type": "code",
   "execution_count": 74,
   "id": "a96f3934",
   "metadata": {},
   "outputs": [
    {
     "ename": "TypeError",
     "evalue": "unhashable type: 'list'",
     "output_type": "error",
     "traceback": [
      "\u001b[1;31m---------------------------------------------------------------------------\u001b[0m",
      "\u001b[1;31mTypeError\u001b[0m                                 Traceback (most recent call last)",
      "Input \u001b[1;32mIn [74]\u001b[0m, in \u001b[0;36m<cell line: 2>\u001b[1;34m()\u001b[0m\n\u001b[0;32m      1\u001b[0m my_list \u001b[38;5;241m=\u001b[39m [\u001b[38;5;241m8\u001b[39m, \u001b[38;5;241m7\u001b[39m]\n\u001b[1;32m----> 2\u001b[0m my_dict \u001b[38;5;241m=\u001b[39m {my_list: \u001b[38;5;241m15\u001b[39m}    \u001b[38;5;66;03m#list is not possible because it is not immutable\u001b[39;00m\n\u001b[0;32m      3\u001b[0m \u001b[38;5;28mprint\u001b[39m(my_dict)\n",
      "\u001b[1;31mTypeError\u001b[0m: unhashable type: 'list'"
     ]
    }
   ],
   "source": [
    "my_list = [8, 7]\n",
    "my_dict = {my_list: 15}    #list is not possible because it is not immutable\n",
    "print(my_dict)"
   ]
  },
  {
   "cell_type": "markdown",
   "id": "b6a35166",
   "metadata": {},
   "source": [
    "## Nested dictionaries"
   ]
  },
  {
   "cell_type": "code",
   "execution_count": 65,
   "id": "4981e304",
   "metadata": {},
   "outputs": [
    {
     "name": "stdout",
     "output_type": "stream",
     "text": [
      "{'dictA': {'name': 'Max', 'age': 28}, 'dictB': {'name': 'Alex', 'age': 25}}\n"
     ]
    }
   ],
   "source": [
    "my_dict_1 = {\"name\": \"Max\", \"age\": 28}\n",
    "my_dict_2 = {\"name\": \"Alex\", \"age\": 25}\n",
    "nested_dict = {\"dictA\": my_dict_1,\n",
    "               \"dictB\": my_dict_2}   # both dictionaries seperated by coma,\n",
    "print(nested_dict)"
   ]
  }
 ],
 "metadata": {
  "kernelspec": {
   "display_name": "Python 3 (ipykernel)",
   "language": "python",
   "name": "python3"
  },
  "language_info": {
   "codemirror_mode": {
    "name": "ipython",
    "version": 3
   },
   "file_extension": ".py",
   "mimetype": "text/x-python",
   "name": "python",
   "nbconvert_exporter": "python",
   "pygments_lexer": "ipython3",
   "version": "3.10.5"
  }
 },
 "nbformat": 4,
 "nbformat_minor": 5
}
