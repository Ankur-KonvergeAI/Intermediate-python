{
 "cells": [
  {
   "cell_type": "markdown",
   "id": "40478d45",
   "metadata": {},
   "source": [
    "## Creation"
   ]
  },
  {
   "cell_type": "code",
   "execution_count": 1,
   "id": "8c0fe22c",
   "metadata": {},
   "outputs": [],
   "source": [
    "# use singe or double quotes\n",
    "\n",
    "my_string = 'Hello'\n",
    "my_string = \"Hello\"\n",
    "my_string = \"I' m  a 'Geek'\""
   ]
  },
  {
   "cell_type": "code",
   "execution_count": 2,
   "id": "43481ba1",
   "metadata": {},
   "outputs": [
    {
     "name": "stdout",
     "output_type": "stream",
     "text": [
      "I' m a 'Geek'\n"
     ]
    }
   ],
   "source": [
    "\n",
    "\n",
    "my_string = 'I\\' m  a \"Geek\"'    # escaping backslash as single inverted comma used more than once\n",
    "my_string = 'I\\' m a \\'Geek\\''\n",
    "print(my_string)"
   ]
  },
  {
   "cell_type": "code",
   "execution_count": 11,
   "id": "555cbe6f",
   "metadata": {},
   "outputs": [
    {
     "name": "stdout",
     "output_type": "stream",
     "text": [
      "Hello\n",
      "World\n"
     ]
    }
   ],
   "source": [
    "my_string = \"\"\"Hello\n",
    "World\"\"\"\n",
    "print(my_string)     # triple quotes for multiline strings"
   ]
  },
  {
   "cell_type": "code",
   "execution_count": 10,
   "id": "9036e856",
   "metadata": {},
   "outputs": [
    {
     "name": "stdout",
     "output_type": "stream",
     "text": [
      "Hello World\n"
     ]
    }
   ],
   "source": [
    "m_string = \"Hello \\\n",
    "World\"\n",
    "print(m_string)    # backslash if you want to continue in the next line"
   ]
  },
  {
   "cell_type": "markdown",
   "id": "9a187ad2",
   "metadata": {},
   "source": [
    "## Access characters and substrings"
   ]
  },
  {
   "cell_type": "code",
   "execution_count": 12,
   "id": "7da6ba63",
   "metadata": {},
   "outputs": [
    {
     "name": "stdout",
     "output_type": "stream",
     "text": [
      "H\n"
     ]
    }
   ],
   "source": [
    "my_string = \"Hello World\"\n",
    "\n",
    "# get character by referring to index\n",
    "b = my_string[0]\n",
    "print(b)"
   ]
  },
  {
   "cell_type": "code",
   "execution_count": 17,
   "id": "6adcab64",
   "metadata": {},
   "outputs": [
    {
     "name": "stdout",
     "output_type": "stream",
     "text": [
      "el\n"
     ]
    }
   ],
   "source": [
    "# Substrings with slicing\n",
    "\n",
    "my_string = \"Hello World\"\n",
    "b = my_string[1:3] # Note that the last index is not included\n",
    "print(b)"
   ]
  },
  {
   "cell_type": "code",
   "execution_count": 13,
   "id": "03354373",
   "metadata": {},
   "outputs": [
    {
     "name": "stdout",
     "output_type": "stream",
     "text": [
      "Hello\n"
     ]
    }
   ],
   "source": [
    "b = my_string[:5]    # from beginning\n",
    "print(b)"
   ]
  },
  {
   "cell_type": "code",
   "execution_count": 14,
   "id": "3ed86cf1",
   "metadata": {},
   "outputs": [
    {
     "name": "stdout",
     "output_type": "stream",
     "text": [
      "World\n"
     ]
    }
   ],
   "source": [
    "b = my_string[6:]    # until the end\n",
    "print(b)"
   ]
  },
  {
   "cell_type": "code",
   "execution_count": 15,
   "id": "b529f3aa",
   "metadata": {},
   "outputs": [
    {
     "name": "stdout",
     "output_type": "stream",
     "text": [
      "HloWrd\n"
     ]
    }
   ],
   "source": [
    "b = my_string[::2]    # start to end with every second item\n",
    "print(b)"
   ]
  },
  {
   "cell_type": "code",
   "execution_count": 16,
   "id": "078e5abe",
   "metadata": {},
   "outputs": [
    {
     "name": "stdout",
     "output_type": "stream",
     "text": [
      "dlroW olleH\n"
     ]
    }
   ],
   "source": [
    "b = my_string[::-1]    # reverse the string with a negative step:\n",
    "print(b)"
   ]
  },
  {
   "cell_type": "markdown",
   "id": "8633b6be",
   "metadata": {},
   "source": [
    "## Concatenate two or more strings"
   ]
  },
  {
   "cell_type": "code",
   "execution_count": 18,
   "id": "e835fa51",
   "metadata": {},
   "outputs": [
    {
     "name": "stdout",
     "output_type": "stream",
     "text": [
      "Hello Tom\n"
     ]
    }
   ],
   "source": [
    "# concat strings with +\n",
    "\n",
    "greeting = \"Hello\"\n",
    "name = \"Tom\"\n",
    "sentence = greeting + ' ' + name\n",
    "print(sentence)"
   ]
  },
  {
   "cell_type": "markdown",
   "id": "3a2fdd22",
   "metadata": {},
   "source": [
    "##  Iterating"
   ]
  },
  {
   "cell_type": "code",
   "execution_count": 19,
   "id": "6cc4acd6",
   "metadata": {},
   "outputs": [
    {
     "name": "stdout",
     "output_type": "stream",
     "text": [
      "H\n",
      "e\n",
      "l\n",
      "l\n",
      "o\n"
     ]
    }
   ],
   "source": [
    "# Iterating over a string by using a for in loop\n",
    "\n",
    "my_string = 'Hello'\n",
    "for i in my_string:\n",
    "    print(i)"
   ]
  },
  {
   "cell_type": "markdown",
   "id": "2f0d117a",
   "metadata": {},
   "source": [
    "## Check if a character or substring exists"
   ]
  },
  {
   "cell_type": "code",
   "execution_count": 20,
   "id": "49c30e4a",
   "metadata": {},
   "outputs": [
    {
     "name": "stdout",
     "output_type": "stream",
     "text": [
      "yes\n",
      "yes\n"
     ]
    }
   ],
   "source": [
    "if \"e\" in \"Hello\":\n",
    "    print(\"yes\")\n",
    "if \"llo\" in \"Hello\":\n",
    "    print(\"yes\")"
   ]
  },
  {
   "cell_type": "markdown",
   "id": "e5b20535",
   "metadata": {},
   "source": [
    "## Useful methods"
   ]
  },
  {
   "cell_type": "code",
   "execution_count": 21,
   "id": "5f2e8cb1",
   "metadata": {},
   "outputs": [
    {
     "name": "stdout",
     "output_type": "stream",
     "text": [
      "Hello World\n"
     ]
    }
   ],
   "source": [
    "my_string = \"     Hello World \"\n",
    "\n",
    "# remove white space\n",
    "my_string = my_string.strip()   # strip method removes blank space\n",
    "print(my_string)"
   ]
  },
  {
   "cell_type": "code",
   "execution_count": 22,
   "id": "7e84d71a",
   "metadata": {},
   "outputs": [
    {
     "name": "stdout",
     "output_type": "stream",
     "text": [
      "11\n"
     ]
    }
   ],
   "source": [
    "print(len(my_string))    # number of characters"
   ]
  },
  {
   "cell_type": "code",
   "execution_count": 23,
   "id": "6597158c",
   "metadata": {},
   "outputs": [
    {
     "name": "stdout",
     "output_type": "stream",
     "text": [
      "HELLO WORLD\n",
      "hello world\n"
     ]
    }
   ],
   "source": [
    "print(my_string.upper())    # Upper cases\n",
    "print(my_string.lower())    # lower cases"
   ]
  },
  {
   "cell_type": "code",
   "execution_count": 40,
   "id": "26e0e2b4",
   "metadata": {},
   "outputs": [
    {
     "name": "stdout",
     "output_type": "stream",
     "text": [
      "True\n",
      "True\n"
     ]
    }
   ],
   "source": [
    "# startswith and endswith\n",
    "\n",
    "my_string = \"Hello World\"\n",
    "print(\"hello\".startswith(\"he\"))\n",
    "print(\"hello\".endswith(\"llo\"))"
   ]
  },
  {
   "cell_type": "code",
   "execution_count": 41,
   "id": "a67c37c9",
   "metadata": {},
   "outputs": [
    {
     "name": "stdout",
     "output_type": "stream",
     "text": [
      "False\n",
      "False\n"
     ]
    }
   ],
   "source": [
    "# startswith and endswith\n",
    "print(my_string.startswith(\"he\"))    # Case sensitive\n",
    "print(my_string.endswith(\"llo\"))"
   ]
  },
  {
   "cell_type": "code",
   "execution_count": 32,
   "id": "07a05b18",
   "metadata": {},
   "outputs": [
    {
     "name": "stdout",
     "output_type": "stream",
     "text": [
      "4\n"
     ]
    }
   ],
   "source": [
    "# find first index of a given substring, -1 otherwise\n",
    "\n",
    "print(\"Hello\".find(\"o\"))"
   ]
  },
  {
   "cell_type": "code",
   "execution_count": 33,
   "id": "e89d499c",
   "metadata": {},
   "outputs": [
    {
     "name": "stdout",
     "output_type": "stream",
     "text": [
      "1\n"
     ]
    }
   ],
   "source": [
    "# count number of characters/substrings\n",
    "\n",
    "print(\"Hello\".count(\"e\"))"
   ]
  },
  {
   "cell_type": "code",
   "execution_count": 43,
   "id": "a49b0801",
   "metadata": {},
   "outputs": [
    {
     "name": "stdout",
     "output_type": "stream",
     "text": [
      "Hello Universe\n"
     ]
    }
   ],
   "source": [
    "# replace a substring with another string (only if the substring is found)\n",
    "# Note: The original string stays the same\n",
    "message = \"Hello World\"\n",
    "new_message = message.replace(\"World\", \"Universe\")     # replace World with Universe\n",
    "print(new_message)"
   ]
  },
  {
   "cell_type": "code",
   "execution_count": 30,
   "id": "ff8eb368",
   "metadata": {},
   "outputs": [
    {
     "name": "stdout",
     "output_type": "stream",
     "text": [
      "['how', 'are', 'you', 'doing']\n"
     ]
    }
   ],
   "source": [
    "# split the string into a list\n",
    "\n",
    "my_string = \"how are you doing\"\n",
    "a = my_string.split()    \n",
    "print(a)"
   ]
  },
  {
   "cell_type": "code",
   "execution_count": 44,
   "id": "fdc5dfaa",
   "metadata": {},
   "outputs": [
    {
     "name": "stdout",
     "output_type": "stream",
     "text": [
      "['one', 'two', 'three']\n"
     ]
    }
   ],
   "source": [
    "my_string = \"one,two,three\"\n",
    "a = my_string.split(\",\")\n",
    "print(a)"
   ]
  },
  {
   "cell_type": "code",
   "execution_count": 29,
   "id": "57b8504e",
   "metadata": {},
   "outputs": [
    {
     "name": "stdout",
     "output_type": "stream",
     "text": [
      "How are you doing\n"
     ]
    }
   ],
   "source": [
    "# join elements of a list into a string\n",
    "\n",
    "my_list = ['How', 'are', 'you', 'doing']\n",
    "a = ' '.join(my_list)     # the given string is the separator, e.g. ' ' between each argument\n",
    "print(a)"
   ]
  },
  {
   "cell_type": "code",
   "execution_count": 28,
   "id": "df5c6a3e",
   "metadata": {},
   "outputs": [
    {
     "name": "stdout",
     "output_type": "stream",
     "text": [
      "How * are * you * doing\n"
     ]
    }
   ],
   "source": [
    "my_list = ['How', 'are', 'you', 'doing']\n",
    "a = ' * '.join(my_list)     # the given string is the separator, e.g. ' ' between each argument\n",
    "print(a)"
   ]
  },
  {
   "cell_type": "markdown",
   "id": "7f7fd74f",
   "metadata": {},
   "source": [
    "## Format"
   ]
  },
  {
   "cell_type": "code",
   "execution_count": 45,
   "id": "b32820be",
   "metadata": {},
   "outputs": [
    {
     "name": "stdout",
     "output_type": "stream",
     "text": [
      "Hello Bob and Tom\n"
     ]
    }
   ],
   "source": [
    "# use braces as placeholders\n",
    "\n",
    "a = \"Hello {0} and {1}\".format(\"Bob\", \"Tom\")\n",
    "print(a)"
   ]
  },
  {
   "cell_type": "code",
   "execution_count": null,
   "id": "adf94559",
   "metadata": {},
   "outputs": [],
   "source": [
    "# the positions are optional for the default order\n",
    "\n",
    "a = \"Hello {} and {}\".format(\"Bob\", \"Tom\")\n",
    "print(a)"
   ]
  },
  {
   "cell_type": "code",
   "execution_count": null,
   "id": "e4b0f083",
   "metadata": {},
   "outputs": [],
   "source": [
    "a = \"The integer value is {}\".format(2)\n",
    "print(a)"
   ]
  },
  {
   "cell_type": "code",
   "execution_count": null,
   "id": "5bb0bd4b",
   "metadata": {},
   "outputs": [],
   "source": [
    "# some special format rules for numbers\n",
    "\n",
    "a = \"The float value is {0:.3f}\".format(2.1234)\n",
    "print(a)\n",
    "a = \"The float value is {0:e}\".format(2.1234)\n",
    "print(a)\n",
    "a = \"The binary value is {0:b}\".format(2)\n",
    "print(a)"
   ]
  },
  {
   "cell_type": "code",
   "execution_count": null,
   "id": "6b9d5def",
   "metadata": {},
   "outputs": [],
   "source": [
    "# old style formatting by using % operator\n",
    "print(\"Hello %s and %s\" % (\"Bob\", \"Tom\")) # must be a tuple for multiple arguments\n",
    "val =  3.14159265359\n",
    "print(\"The decimal value is %d\" % val)\n",
    "print(\"The float value is %f\" % val)\n",
    "print(\"The float value is %.2f\" % val)"
   ]
  },
  {
   "cell_type": "code",
   "execution_count": null,
   "id": "f32906e9",
   "metadata": {},
   "outputs": [],
   "source": []
  },
  {
   "cell_type": "code",
   "execution_count": null,
   "id": "d21ced21",
   "metadata": {},
   "outputs": [],
   "source": []
  },
  {
   "cell_type": "markdown",
   "id": "7274ddca",
   "metadata": {},
   "source": [
    "## f-Strings"
   ]
  },
  {
   "cell_type": "code",
   "execution_count": null,
   "id": "ab972f55",
   "metadata": {},
   "outputs": [],
   "source": [
    "name = \"Eric\"\n",
    "age = 25\n",
    "a = f\"Hello, {name}. You are {age}.\"\n",
    "print(a)\n",
    "pi = 3.14159\n",
    "a = f\"Pi is {pi:.3f}\"\n",
    "print(a)\n",
    "# f-Strings are evaluated at runtime, which allows expressions\n",
    "a = f\"The value is {2*60}\"\n",
    "print(a)"
   ]
  },
  {
   "cell_type": "code",
   "execution_count": null,
   "id": "0520910b",
   "metadata": {},
   "outputs": [],
   "source": []
  },
  {
   "cell_type": "markdown",
   "id": "cf23e5e6",
   "metadata": {},
   "source": [
    "## More on immutability and concatenation"
   ]
  },
  {
   "cell_type": "code",
   "execution_count": null,
   "id": "27d3c5b9",
   "metadata": {},
   "outputs": [],
   "source": [
    "# since a string is immutable, adding strings with +,  or += always \n",
    "# creates a new string, and therefore is expensive for multiple operations\n",
    "# --> join method is much faster\n",
    "from timeit import default_timer as timer\n",
    "my_list = [\"a\"] * 1000000\n",
    "\n",
    "# bad\n",
    "start = timer()\n",
    "a = \"\"\n",
    "for i in my_list:\n",
    "    a += i\n",
    "end = timer()\n",
    "print(\"concatenate string with + : %.5f\" % (end - start))\n",
    "\n",
    "# good\n",
    "start = timer()\n",
    "a = \"\".join(my_list)\n",
    "end = timer()\n",
    "print(\"concatenate string with join(): %.5f\" % (end - start))"
   ]
  },
  {
   "cell_type": "code",
   "execution_count": null,
   "id": "d6ddab85",
   "metadata": {},
   "outputs": [],
   "source": []
  },
  {
   "cell_type": "code",
   "execution_count": null,
   "id": "6131b9de",
   "metadata": {},
   "outputs": [],
   "source": []
  },
  {
   "cell_type": "code",
   "execution_count": null,
   "id": "3fe5837b",
   "metadata": {},
   "outputs": [],
   "source": []
  },
  {
   "cell_type": "code",
   "execution_count": null,
   "id": "ea7ec62d",
   "metadata": {},
   "outputs": [],
   "source": []
  }
 ],
 "metadata": {
  "kernelspec": {
   "display_name": "Python 3 (ipykernel)",
   "language": "python",
   "name": "python3"
  },
  "language_info": {
   "codemirror_mode": {
    "name": "ipython",
    "version": 3
   },
   "file_extension": ".py",
   "mimetype": "text/x-python",
   "name": "python",
   "nbconvert_exporter": "python",
   "pygments_lexer": "ipython3",
   "version": "3.10.5"
  }
 },
 "nbformat": 4,
 "nbformat_minor": 5
}
